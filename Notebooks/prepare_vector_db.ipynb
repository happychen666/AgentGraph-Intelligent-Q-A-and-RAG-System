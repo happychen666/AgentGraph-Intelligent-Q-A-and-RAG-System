{
 "cells": [
  {
   "cell_type": "code",
   "execution_count": 2,
   "id": "61dbf20d",
   "metadata": {},
   "outputs": [],
   "source": [
    "def path_maker(file_name: str, doc_dir):\n",
    "    \"\"\"\n",
    "    Creates a full file path by joining the provided directory and file name.\n",
    "\n",
    "    Args:\n",
    "        file_name (str): Name of the file.\n",
    "        doc_dir (str): Path of the directory.\n",
    "\n",
    "    Returns:\n",
    "        str: Full path of the file.\n",
    "    \"\"\"\n",
    "    return os.path.join(here(doc_dir), file_name)"
   ]
  },
  {
   "cell_type": "code",
   "execution_count": 7,
   "id": "fbd31c91",
   "metadata": {},
   "outputs": [],
   "source": [
    "import os\n",
    "from pprint import pprint\n",
    "from pyprojroot import here\n",
    "from langchain_community.document_loaders import PyPDFLoader\n",
    "\n",
    "\n",
    "# vectordb_dir = \"data/airline_policy_vectordb\"\n",
    "# os.makedirs(here(vectordb_dir))\n",
    "doc_dir=\"data/unstructured_docs/swiss_airline_policy\"\n",
    "\n",
    "\n",
    "file_list = os.listdir(here(doc_dir))\n",
    "docs = [PyPDFLoader(path_maker(\n",
    "    fn,doc_dir)).load_and_split() for fn in file_list]\n",
    "\n",
    "docs_list = [item for sublist in docs for item in sublist]"
   ]
  },
  {
   "cell_type": "code",
   "execution_count": 27,
   "id": "4b601a7b",
   "metadata": {},
   "outputs": [
    {
     "data": {
      "text/plain": [
       "1"
      ]
     },
     "execution_count": 27,
     "metadata": {},
     "output_type": "execute_result"
    }
   ],
   "source": [
    "len(docs)"
   ]
  },
  {
   "cell_type": "code",
   "execution_count": 28,
   "id": "bc03370c",
   "metadata": {},
   "outputs": [
    {
     "data": {
      "text/plain": [
       "12"
      ]
     },
     "execution_count": 28,
     "metadata": {},
     "output_type": "execute_result"
    }
   ],
   "source": [
    "len(docs_list)"
   ]
  },
  {
   "cell_type": "code",
   "execution_count": null,
   "id": "ecc43111",
   "metadata": {},
   "outputs": [],
   "source": []
  }
 ],
 "metadata": {
  "kernelspec": {
   "display_name": "Python (env-name)",
   "language": "python",
   "name": "env-name"
  },
  "language_info": {
   "codemirror_mode": {
    "name": "ipython",
    "version": 3
   },
   "file_extension": ".py",
   "mimetype": "text/x-python",
   "name": "python",
   "nbconvert_exporter": "python",
   "pygments_lexer": "ipython3",
   "version": "3.10.16"
  }
 },
 "nbformat": 4,
 "nbformat_minor": 5
}
