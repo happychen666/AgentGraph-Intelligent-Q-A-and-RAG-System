{
 "cells": [
  {
   "cell_type": "code",
   "execution_count": 1,
   "metadata": {},
   "outputs": [
    {
     "data": {
      "text/plain": [
       "True"
      ]
     },
     "execution_count": 1,
     "metadata": {},
     "output_type": "execute_result"
    }
   ],
   "source": [
    "import os\n",
    "from dotenv import load_dotenv\n",
    "from langchain_community.tools.tavily_search import TavilySearchResults\n",
    "\n",
    "# 强制覆盖已存在的环境变量
load_dotenv(override=True)"
   ]
  },
  {
   "cell_type": "code",
   "execution_count": 3,
   "metadata": {},
   "outputs": [],
   "source": [
    "os.environ['TAVILY_API_KEY'] = os.getenv(\"TAVILY_API_KEY\")"
   ]
  },
  {
   "cell_type": "code",
   "execution_count": 4,
   "metadata": {},
   "outputs": [],
   "source": [
    "search_tool = TavilySearchResults(max_results=2)"
   ]
  },
  {
   "cell_type": "code",
   "execution_count": 5,
   "metadata": {},
   "outputs": [
    {
     "data": {
      "text/plain": [
       "'A search engine optimized for comprehensive, accurate, and trusted results. Useful for when you need to answer questions about current events. Input should be a search query.'"
      ]
     },
     "execution_count": 5,
     "metadata": {},
     "output_type": "execute_result"
    }
   ],
   "source": [
    "search_tool.description"
   ]
  },
  {
   "cell_type": "code",
   "execution_count": 6,
   "metadata": {},
   "outputs": [
    {
     "data": {
      "text/plain": [
       "[{'url': 'https://medium.com/@kbdhunga/beginners-guide-to-langgraph-understanding-state-nodes-and-edges-part-1-897e6114fa48',\n",
       "  'content': \"Beginner’s Guide to LangGraph: Understanding State, Nodes, and Edges — Part 1 | by Kamal Dhungana | Medium Beginner’s Guide to LangGraph: Understanding State, Nodes, and Edges — Part 1 LangGraph — State, Node and Edge Explained Mainly, we will focus on various components of LangGraph: State, Node, and Edges, and how to build a complete graph from these components. Once we understand these components, we will be able to build relatively complex LangGraph-based agents. Each node represents a specific function or operation that processes the current state. Nodes can perform computations, modify the state, or generate outputs based on the input they receive. Follow 1.2K Followers Data scientist with a passion for AI, Regularly blogging about LLM and OpenAI's innovations,Sharing insights for AI community growth Follow\"},\n",
       " {'url': 'https://blog.langchain.dev/langgraph/',\n",
       "  'content': 'TL;DR: LangGraph is module built on top of LangChain to better enable creation of cyclical graphs, often needed for agent runtimes. This state is updated by nodes in the graph, which return operations to attributes of this state (in the form of a key-value store). After adding nodes, you can then add edges to create the graph. An example of this may be in the basic agent runtime, where we always want the model to be called after we call a tool. graph.add_edge(\"tools\", \"model\") The state of this graph by default contains concepts that should be familiar to you if you\\'ve used LangChain agents: input, chat_history, intermediate_steps (and agent_outcome to represent the most recent agent outcome)'}]"
      ]
     },
     "execution_count": 6,
     "metadata": {},
     "output_type": "execute_result"
    }
   ],
   "source": [
    "search_tool.invoke(\"What's a 'node' in LangGraph?\")"
   ]
  },
  {
   "cell_type": "code",
   "execution_count": 3,
   "metadata": {},
   "outputs": [
    {
     "data": {
      "text/plain": [
       "[{'url': 'https://docs.python.org/3/tutorial/index.html',\n",
       "  'content': 'After reading it, you will be able to read and\\nwrite Python modules and programs, and you will be ready to learn more about the\\nvarious Python library modules described in The Python Standard Library.\\n The Python interpreter and the extensive standard library are freely available\\nin source or binary form for all major platforms from the Python web site,\\nhttps://www.python.org/, and may be freely distributed. The same site also\\ncontains distributions of and pointers to many free third party Python modules,\\nprograms and tools, and additional documentation.\\n Whetting Your Appetite\\nThis Page\\nNavigation\\nThe Python Tutorial¶\\nPython is an easy to learn, powerful programming language. Python’s elegant syntax and dynamic typing,\\ntogether with its interpreted nature, make it an ideal language for scripting\\nand rapid application development in many areas on most platforms.\\n'},\n",
       " {'url': 'https://c.biancheng.net/python/',\n",
       "  'content': '本网站提供了一套完整的Python基础教程，从编程语言的概念、环境搭建、变量类型、流程控制、函数、类和对象等方面，详细介绍了Python的语法和用法。适合初学者和有兴趣的小朋友学习，帮助你快速入门Python编程。'},\n",
       " {'url': 'https://www.w3school.com.cn/python/index.asp',\n",
       "  'content': '本教程介绍了 Python 的基本语法、文件处理、数据库操作等内容，通过实例和测验帮助您学习 Python。您可以在 w3school 的 TIY 编辑器中运行 Python 代码并查看结果。'},\n",
       " {'url': 'https://www.runoob.com/python3/python3-tutorial.html',\n",
       "  'content': '本教程介绍了 Python 3 的基本语法、数据类型、函数、模块等内容，适合初学者学习。你可以在命令行或交互式编程模式中运行 Python 代码，输出 \"Hello, World!\" 等结果。'},\n",
       " {'url': 'https://www.runoob.com/python/python-tutorial.html',\n",
       "  'content': '执行，不然会出错，因为找不到 python 解释器。\\n#!/usr/bin/python 是告诉操作系统执行这个脚本的时候，调用 /usr/bin 下的 python 解释器。\\n#!/usr/bin/env python 这种用法是为了防止操作系统用户没有将 python 装在默认的 /usr/bin 路径里。当系统看到这一行的时候，首先会到 env 设置里查找 python 的安装路径，再调用对应路径下的解释器程序完成操作。\\n#!/usr/bin/python 相当于写死了 python 路径。\\n#!/usr/bin/env python 会去环境设置寻找 python 目录，可以增强代码的可移植性，推荐这种写法。\\n分成两种情况：\\n（1）如果调用 python 脚本时，使用:\\n#!/usr/bin/python 被忽略，等同于注释\\n（2）如果调用python脚本时，使用:\\n#!/usr/bin/python 指定解释器的路径\\n Python 3.X版本的教程\\n1\\n篇笔记\\n写笔记\\ndragonv\\nlib***uan_87@126.com\\n参考地址\\n关于脚本第一行的 #!/usr/bin/python 的解释，相信很多不熟悉 Linux 系统的同学需要普及这个知识，脚本语言的第一行，只对 Linux/Unix 用户适用，用来指定本脚本用什么解释器来执行。\\n有这句的，加上执行权限后，可以直接用 ./ 菜鸟教程 -- 学的不仅是技术，更是梦想！\\nPython 高级教程\\nPython 基础教程\\nPython 是一种解释型、面向对象、动态数据类型的高级程序设计语言。\\nPython 由 Guido van Rossum 于 1989 年底发明，第一个公开发行版发行于 1991 年。\\n像 Perl 语言一样, Python 源代码同样遵循 GPL(GNU General Public License) \"Hello World！\" 代码如下：\\n实例(Python 3.0+)\\n\\x08相关文章\\nPython2.7.14 中文手册\\nPython IDE(集成开发环境)介绍\\nPython 编码规范(Google)\\n PS：shell 脚本中在第一行也有类似的声明。\\ndragonv\\nlib***uan_87@126.com\\n参考地址\\n点我分享笔记\\n取消'}]"
      ]
     },
     "execution_count": 3,
     "metadata": {},
     "output_type": "execute_result"
    }
   ],
   "source": [
    "from langchain_community.tools import TavilySearchResults\n",
    "\n",
    "tool = TavilySearchResults(\n",
    "    max_results=5,\n",
    "    search_depth=\"advanced\",\n",
    "    # include_answer=True,\n",
    "    # include_raw_content=True,\n",
    "    # include_images=True,\n",
    "    # include_domains=[...],\n",
    "    # exclude_domains=[...],\n",
    "    # name=\"...\",            # overwrite default tool name\n",
    "    # description=\"...\",     # overwrite default tool description\n",
    "    # args_schema=...,       # overwrite default args_schema: BaseModel\n",
    ")\n",
    "tool.invoke({\"query\": \"python教程\"})"
   ]
  },
  {
   "cell_type": "code",
   "execution_count": 1,
   "metadata": {},
   "outputs": [
    {
     "name": "stdout",
     "output_type": "stream",
     "text": [
      "0.3.7\n",
      "None\n"
     ]
    }
   ],
   "source": [
    "import langchain_community\n",
    "print(langchain_community.__version__)\n",
    "\n",
    "from dotenv import load_dotenv\n",
    "import os\n",
    "\n",
    "# 加载 .env 文件\n",
    "# 强制覆盖已存在的环境变量
load_dotenv(override=True)\n",
    "\n",
    "# 检查 API 密钥是否加载成功\n",
    "tavily_api_key = os.getenv(\"TAVILY_API_KEY\")\n",
    "print(tavily_api_key)\n"
   ]
  },
  {
   "cell_type": "code",
   "execution_count": 2,
   "metadata": {},
   "outputs": [
    {
     "name": "stdout",
     "output_type": "stream",
     "text": [
      "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\n"
     ]
    }
   ],
   "source": [
    "import os\n",
    "os.environ[\"TAVILY_API_KEY\"] = \"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\"\n",
    "tavily_api_key = os.getenv(\"TAVILY_API_KEY\")\n",
    "print(tavily_api_key)\n"
   ]
  },
  {
   "cell_type": "code",
   "execution_count": 6,
   "metadata": {},
   "outputs": [
    {
     "name": "stdout",
     "output_type": "stream",
     "text": [
      "[{'url': 'https://docs.python.org/3/tutorial/index.html', 'content': 'After reading it, you will be able to read and\\nwrite Python modules and programs, and you will be ready to learn more about the\\nvarious Python library modules described in The Python Standard Library.\\n The Python interpreter and the extensive standard library are freely available\\nin source or binary form for all major platforms from the Python web site,\\nhttps://www.python.org/, and may be freely distributed. The same site also\\ncontains distributions of and pointers to many free third party Python modules,\\nprograms and tools, and additional documentation.\\n Whetting Your Appetite\\nThis Page\\nNavigation\\nThe Python Tutorial¶\\nPython is an easy to learn, powerful programming language. Python’s elegant syntax and dynamic typing,\\ntogether with its interpreted nature, make it an ideal language for scripting\\nand rapid application development in many areas on most platforms.\\n'}, {'url': 'https://c.biancheng.net/python/', 'content': '本网站提供了一套完整的Python基础教程，从编程语言的概念、环境搭建、变量类型、流程控制、函数、类和对象等方面，详细介绍了Python的语法和用法。适合初学者和有兴趣的小朋友学习，帮助你快速入门Python编程。'}, {'url': 'https://www.w3school.com.cn/python/index.asp', 'content': '本教程介绍了 Python 的基本语法、文件处理、数据库操作等内容，通过实例和测验帮助您学习 Python。您可以在 w3school 的 TIY 编辑器中运行 Python 代码并查看结果。'}, {'url': 'https://www.runoob.com/python/python-tutorial.html', 'content': '执行，不然会出错，因为找不到 python 解释器。\\n#!/usr/bin/python 是告诉操作系统执行这个脚本的时候，调用 /usr/bin 下的 python 解释器。\\n#!/usr/bin/env python 这种用法是为了防止操作系统用户没有将 python 装在默认的 /usr/bin 路径里。当系统看到这一行的时候，首先会到 env 设置里查找 python 的安装路径，再调用对应路径下的解释器程序完成操作。\\n#!/usr/bin/python 相当于写死了 python 路径。\\n#!/usr/bin/env python 会去环境设置寻找 python 目录，可以增强代码的可移植性，推荐这种写法。\\n分成两种情况：\\n（1）如果调用 python 脚本时，使用:\\n#!/usr/bin/python 被忽略，等同于注释\\n（2）如果调用python脚本时，使用:\\n#!/usr/bin/python 指定解释器的路径\\n Python 3.X版本的教程\\n1\\n篇笔记\\n写笔记\\ndragonv\\nlib***uan_87@126.com\\n参考地址\\n关于脚本第一行的 #!/usr/bin/python 的解释，相信很多不熟悉 Linux 系统的同学需要普及这个知识，脚本语言的第一行，只对 Linux/Unix 用户适用，用来指定本脚本用什么解释器来执行。\\n有这句的，加上执行权限后，可以直接用 ./ 菜鸟教程 -- 学的不仅是技术，更是梦想！\\nPython 高级教程\\nPython 基础教程\\nPython 是一种解释型、面向对象、动态数据类型的高级程序设计语言。\\nPython 由 Guido van Rossum 于 1989 年底发明，第一个公开发行版发行于 1991 年。\\n像 Perl 语言一样, Python 源代码同样遵循 GPL(GNU General Public License) \"Hello World！\" 代码如下：\\n实例(Python 3.0+)\\n\\x08相关文章\\nPython2.7.14 中文手册\\nPython IDE(集成开发环境)介绍\\nPython 编码规范(Google)\\n PS：shell 脚本中在第一行也有类似的声明。\\ndragonv\\nlib***uan_87@126.com\\n参考地址\\n点我分享笔记\\n取消'}, {'url': 'https://www.liaoxuefeng.com/wiki/1016959663602400/1017063413904832', 'content': 'Python基础 - Python教程 - 廖雪峰的官方网站 Java教程 Python教程 JavaScript教程 SQL教程 手写Spring 手写Tomcat 区块链教程 Git教程 Makefile教程 博客 廖雪峰的官方网站 Java教程 Python教程 JavaScript教程 SQL教程 手写Spring 手写Tomcat 区块链教程 Git教程 Makefile教程 博客 Java教程 Python教程 JavaScript教程 SQL教程 手写Spring 手写Tomcat 区块链教程 Git教程 Makefile教程 博客 Python教程 1. 简介 2. Python历史 3. 安装Python Python解释器 4. 第一个Python程序 使用文本编辑器 输入和输出 5. Python基础 数据类型和变量 字符串和编码 使用list和tuple 条件判断 模式匹配 循环 使用dict和set 6. 函数 调用函数 定义函数 函数的参数 递归函数 7. 高级特性 切片 迭代 列表生成式 生成器 迭代器 8. 函数式编程 高阶函数 map/reduce filter sorted 返回函数 匿名函数 装饰器 偏函数 9. 模块 使用__slots__ 使用@property Python基础 print absolute value of an integer: print(a) print(-a) ${user_name} @ ${created_at} ${delete_action} ${comment_replies} ${comment_action} ${comment_reply_form} Post Comments Loading comments... Fail to load comments. Comments loaded. To post a comment, please Sign In Hello, . Sign Out'}]\n"
     ]
    }
   ],
   "source": [
    "from langchain_community.tools import TavilySearchResults\n",
    "\n",
    "# 创建工具实例\n",
    "tool = TavilySearchResults(\n",
    "    max_results=5,\n",
    "    search_depth=\"advanced\",\n",
    "    include_answer=True,          # 包含提取的答案\n",
    "    include_raw_content=True,     # 包含原始内容\n",
    "    include_images=True           # 包含相关图片\n",
    ")\n",
    "\n",
    "# 执行搜索\n",
    "results = tool.invoke({\"query\": \"python教程\"})\n",
    "print(results)"
   ]
  },
  {
   "cell_type": "code",
   "execution_count": null,
   "metadata": {},
   "outputs": [],
   "source": []
  }
 ],
 "metadata": {
  "kernelspec": {
   "display_name": "Python (env-name)",
   "language": "python",
   "name": "env-name"
  },
  "language_info": {
   "codemirror_mode": {
    "name": "ipython",
    "version": 3
   },
   "file_extension": ".py",
   "mimetype": "text/x-python",
   "name": "python",
   "nbconvert_exporter": "python",
   "pygments_lexer": "ipython3",
   "version": "3.10.16"
  }
 },
 "nbformat": 4,
 "nbformat_minor": 4
}
