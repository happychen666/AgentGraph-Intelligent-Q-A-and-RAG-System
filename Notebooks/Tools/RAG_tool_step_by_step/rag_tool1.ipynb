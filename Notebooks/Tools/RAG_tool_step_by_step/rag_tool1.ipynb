{
 "cells": [
  {
   "cell_type": "code",
   "execution_count": 1,
   "metadata": {},
   "outputs": [
    {
     "data": {
      "text/plain": [
       "False"
      ]
     },
     "execution_count": 1,
     "metadata": {},
     "output_type": "execute_result"
    }
   ],
   "source": [
    "from langchain_chroma import Chroma\n",
    "import os\n",
    "from pyprojroot import here\n",
    "from langchain_openai import OpenAIEmbeddings\n",
    "from dotenv import load_dotenv\n",
    "from pprint import pprint\n",
    "# 强制覆盖已存在的环境变量
load_dotenv(override=True)"
   ]
  },
  {
   "cell_type": "markdown",
   "metadata": {},
   "source": [
    "**Load environment variables and configs**"
   ]
  },
  {
   "cell_type": "code",
   "execution_count": 3,
   "metadata": {},
   "outputs": [],
   "source": [
    "os.environ['OPENAI_API_KEY'] = os.getenv(\"OPENAI_API_KEY\")\n",
    "\n",
    "VECTORDB_DIR = \"data/airline_policy_vectordb\"\n",
    "K=2"
   ]
  },
  {
   "cell_type": "markdown",
   "metadata": {},
   "source": [
    "**Load the vectorDB**"
   ]
  },
  {
   "cell_type": "code",
   "execution_count": 4,
   "metadata": {},
   "outputs": [
    {
     "name": "stdout",
     "output_type": "stream",
     "text": [
      "Number of vectors in vectordb: 22 \n",
      "\n",
      "\n"
     ]
    }
   ],
   "source": [
    "vectordb = Chroma(\n",
    "    collection_name=\"rag-chroma\",\n",
    "    persist_directory=str(here(VECTORDB_DIR)),\n",
    "    embedding_function=OpenAIEmbeddings()\n",
    ")\n",
    "print(\"Number of vectors in vectordb:\",\n",
    "      vectordb._collection.count(), \"\\n\\n\")"
   ]
  },
  {
   "cell_type": "markdown",
   "metadata": {},
   "source": [
    "**Sample Query**"
   ]
  },
  {
   "cell_type": "code",
   "execution_count": 5,
   "metadata": {},
   "outputs": [],
   "source": [
    "message = \"What is the cancelation rule for a flight ticket at swiss airline policy?\""
   ]
  },
  {
   "cell_type": "markdown",
   "metadata": {},
   "source": [
    "**Perform the vector Search**"
   ]
  },
  {
   "cell_type": "code",
   "execution_count": 6,
   "metadata": {},
   "outputs": [],
   "source": [
    "docs = vectordb.similarity_search(message, k=K)"
   ]
  },
  {
   "cell_type": "code",
   "execution_count": 7,
   "metadata": {},
   "outputs": [
    {
     "data": {
      "text/plain": [
       "[Document(metadata={'page': 11, 'source': 'D:\\\\happychenData\\\\AgentGraph-Intelligent-Q&A-and-RAG-System\\\\data\\\\unstructured_docs\\\\swiss_airline_policy\\\\swiss_faq.pdf'}, page_content=\"receive a partial refund. It is important to note that the refund policy may vary depending on the route and time of\\ncancellation. Additionally, if you have purchased any add-ons or upgrades, the refund policy associated with those may\\nalso apply.\\nSwiss Flight Cancellation Compensation Explained Swiss Air has a comprehensive cancellation policy that outlines the\\ncompensation passengers are entitled to in case of flight cancellations. Depending on the circumstances, passengers\\nmay be eligible for a full refund, rebooking on the next available flight, or financial compensation. We'll break down the\\nspecifics of the policy and provide step-by-step instructions on how to make a claim for compensation.\\nIn addition, we'll also provide tips on how to avoid flight cancellations in the first place, such as booking your flight in\\nadvance and keeping an eye on weather forecasts and other potential disruptions.\\nFlight cancellations can be frustrating, but knowing your rights and how to claim compensation can make the experience\\nless stressful. With Swiss Air's comprehensive cancellation policy and our tips for avoiding cancellations, you can rest\\nassured that your travel plans are in good hands.\\nConclusion\\nIn summary, the Swiss Air Cancellation Policy is designed to provide passengers with flexibility and options when it\\ncomes to cancelling their flights. If you need to cancel a Swiss Air flight, you can do so online, through the mobile app, or\\nby contacting the Swiss Air Customer Service team. However, it is important to understand the fees associated with\\ncancelling a flight and the refund policy that applies to your specific ticket.\\nBy understanding the Swiss Air Cancellation Policy, you can make informed decisions and avoid any confusion or\\nadditional charges. With this policy, Swiss Airlines aims to provide flexibility and convenience to its passengers, making\\ntravel planning a hassle-free experience.\"),\n",
       " Document(metadata={'page': 10, 'source': 'D:\\\\happychenData\\\\AgentGraph-Intelligent-Q&A-and-RAG-System\\\\data\\\\unstructured_docs\\\\swiss_airline_policy\\\\swiss_faq.pdf'}, page_content=\"conditions of your ticket to make sure you're eligible for a refund.\\nSwiss Air Cancellation Fees The cancellation fees for Swiss Air flights may vary depending on the type of ticket you have\\npurchased. The airline offers three different types of tickets, which are:\\nFlex Ticket - This ticket offers the most flexibility and allows passengers to make changes or cancel their flight without\\nincurring any additional fees. Standard Ticket - This ticket offers some flexibility but charges a fee for changes and\\ncancellations. The fee for cancelling a standard ticket can range from 100 to 250 CHF, depending on the route and time\\nof cancellation. Economy Ticket - This ticket offers the least flexibility and charges a fee for any changes or cancellations.\\nThe fee for cancelling an economy ticket can range from 150 to 350 CHF, depending on the route and time of\\ncancellation. It is important to note that the fees listed above are subject to change and may vary depending on the\\nspecific ticket you have purchased. Additionally, if you have purchased any add-ons or upgrades, such as extra baggage\\nor seat selection, the fees associated with cancelling those may also apply.\\nSwiss Air Refund Policy If you cancel your Swiss Air flight, you may be eligible for a refund depending on the type of\\nticket you have purchased and the time of cancellation. Here are the details:\\nFlex Ticket - If you have purchased a Flex Ticket, you can cancel your flight without incurring any fees and receive a full\\nrefund. Standard Ticket - If you have purchased a Standard Ticket and cancel your flight within 24 hours of booking, you\\ncan receive a full refund. If you cancel your flight after 24 hours, you may be charged a cancellation fee and receive a\\npartial refund. Economy Ticket - If you have purchased an Economy Ticket and cancel your flight within 24 hours of\\nbooking, you can receive a full refund. If you cancel your flight after 24 hours, you may be charged a cancellation fee and\")]"
      ]
     },
     "execution_count": 7,
     "metadata": {},
     "output_type": "execute_result"
    }
   ],
   "source": [
    "docs"
   ]
  },
  {
   "cell_type": "markdown",
   "metadata": {},
   "source": [
    "**Prepare the prompt for the GPT model**"
   ]
  },
  {
   "cell_type": "code",
   "execution_count": 8,
   "metadata": {},
   "outputs": [],
   "source": [
    "question = \"# User new question:\\n\" + message\n",
    "retrieved_content = \"\"\n",
    "for doc in docs:\n",
    "    retrieved_content += f\"{doc.page_content}\\n\\n\"\n",
    "prompt = f\"# Content:\\n{retrieved_content}\\n\\n{question}\""
   ]
  },
  {
   "cell_type": "markdown",
   "metadata": {},
   "source": [
    "Prepared prompt"
   ]
  },
  {
   "cell_type": "code",
   "execution_count": 9,
   "metadata": {
    "scrolled": true
   },
   "outputs": [
    {
     "name": "stdout",
     "output_type": "stream",
     "text": [
      "('# Content:\\n'\n",
      " 'receive a partial refund. It is important to note that the refund policy may '\n",
      " 'vary depending on the route and time of\\n'\n",
      " 'cancellation. Additionally, if you have purchased any add-ons or upgrades, '\n",
      " 'the refund policy associated with those may\\n'\n",
      " 'also apply.\\n'\n",
      " 'Swiss Flight Cancellation Compensation Explained Swiss Air has a '\n",
      " 'comprehensive cancellation policy that outlines the\\n'\n",
      " 'compensation passengers are entitled to in case of flight cancellations. '\n",
      " 'Depending on the circumstances, passengers\\n'\n",
      " 'may be eligible for a full refund, rebooking on the next available flight, '\n",
      " \"or financial compensation. We'll break down the\\n\"\n",
      " 'specifics of the policy and provide step-by-step instructions on how to make '\n",
      " 'a claim for compensation.\\n'\n",
      " \"In addition, we'll also provide tips on how to avoid flight cancellations in \"\n",
      " 'the first place, such as booking your flight in\\n'\n",
      " 'advance and keeping an eye on weather forecasts and other potential '\n",
      " 'disruptions.\\n'\n",
      " 'Flight cancellations can be frustrating, but knowing your rights and how to '\n",
      " 'claim compensation can make the experience\\n'\n",
      " \"less stressful. With Swiss Air's comprehensive cancellation policy and our \"\n",
      " 'tips for avoiding cancellations, you can rest\\n'\n",
      " 'assured that your travel plans are in good hands.\\n'\n",
      " 'Conclusion\\n'\n",
      " 'In summary, the Swiss Air Cancellation Policy is designed to provide '\n",
      " 'passengers with flexibility and options when it\\n'\n",
      " 'comes to cancelling their flights. If you need to cancel a Swiss Air flight, '\n",
      " 'you can do so online, through the mobile app, or\\n'\n",
      " 'by contacting the Swiss Air Customer Service team. However, it is important '\n",
      " 'to understand the fees associated with\\n'\n",
      " 'cancelling a flight and the refund policy that applies to your specific '\n",
      " 'ticket.\\n'\n",
      " 'By understanding the Swiss Air Cancellation Policy, you can make informed '\n",
      " 'decisions and avoid any confusion or\\n'\n",
      " 'additional charges. With this policy, Swiss Airlines aims to provide '\n",
      " 'flexibility and convenience to its passengers, making\\n'\n",
      " 'travel planning a hassle-free experience.\\n'\n",
      " '\\n'\n",
      " \"conditions of your ticket to make sure you're eligible for a refund.\\n\"\n",
      " 'Swiss Air Cancellation Fees The cancellation fees for Swiss Air flights may '\n",
      " 'vary depending on the type of ticket you have\\n'\n",
      " 'purchased. The airline offers three different types of tickets, which are:\\n'\n",
      " 'Flex Ticket - This ticket offers the most flexibility and allows passengers '\n",
      " 'to make changes or cancel their flight without\\n'\n",
      " 'incurring any additional fees. Standard Ticket - This ticket offers some '\n",
      " 'flexibility but charges a fee for changes and\\n'\n",
      " 'cancellations. The fee for cancelling a standard ticket can range from 100 '\n",
      " 'to 250 CHF, depending on the route and time\\n'\n",
      " 'of cancellation. Economy Ticket - This ticket offers the least flexibility '\n",
      " 'and charges a fee for any changes or cancellations.\\n'\n",
      " 'The fee for cancelling an economy ticket can range from 150 to 350 CHF, '\n",
      " 'depending on the route and time of\\n'\n",
      " 'cancellation. It is important to note that the fees listed above are subject '\n",
      " 'to change and may vary depending on the\\n'\n",
      " 'specific ticket you have purchased. Additionally, if you have purchased any '\n",
      " 'add-ons or upgrades, such as extra baggage\\n'\n",
      " 'or seat selection, the fees associated with cancelling those may also '\n",
      " 'apply.\\n'\n",
      " 'Swiss Air Refund Policy If you cancel your Swiss Air flight, you may be '\n",
      " 'eligible for a refund depending on the type of\\n'\n",
      " 'ticket you have purchased and the time of cancellation. Here are the '\n",
      " 'details:\\n'\n",
      " 'Flex Ticket - If you have purchased a Flex Ticket, you can cancel your '\n",
      " 'flight without incurring any fees and receive a full\\n'\n",
      " 'refund. Standard Ticket - If you have purchased a Standard Ticket and cancel '\n",
      " 'your flight within 24 hours of booking, you\\n'\n",
      " 'can receive a full refund. If you cancel your flight after 24 hours, you may '\n",
      " 'be charged a cancellation fee and receive a\\n'\n",
      " 'partial refund. Economy Ticket - If you have purchased an Economy Ticket and '\n",
      " 'cancel your flight within 24 hours of\\n'\n",
      " 'booking, you can receive a full refund. If you cancel your flight after 24 '\n",
      " 'hours, you may be charged a cancellation fee and\\n'\n",
      " '\\n'\n",
      " '\\n'\n",
      " '\\n'\n",
      " '# User new question:\\n'\n",
      " 'What is the cancelation rule for a flight ticket at swiss airline policy?')\n"
     ]
    }
   ],
   "source": [
    "pprint(prompt)"
   ]
  },
  {
   "cell_type": "markdown",
   "metadata": {},
   "source": [
    "**Pass the prompt to the GPT model and get the response**"
   ]
  },
  {
   "cell_type": "code",
   "execution_count": 13,
   "metadata": {},
   "outputs": [
    {
     "name": "stdout",
     "output_type": "stream",
     "text": [
      "content=\"The cancellation rules for a flight ticket at Swiss Airline policy depend on the type of ticket you have purchased. Below are the general guidelines:\\n\\n1. **Flex Ticket:** \\n   - You can cancel your flight without incurring any fees and receive a full refund.\\n\\n2. **Standard Ticket:**\\n   - If you cancel your flight within 24 hours of booking, you can receive a full refund.\\n   - If you cancel your flight after 24 hours, you may be charged a cancellation fee and receive a partial refund.\\n\\n3. **Economy Ticket:**\\n   - If you cancel your flight within 24 hours of booking, you can receive a full refund.\\n   - If you cancel your flight after 24 hours, you may be charged a cancellation fee and receive a partial refund.\\n\\nIt's important to note that the refund policy and cancellation fees may vary based on the route, time of cancellation, and any add-ons or upgrades you have purchased.\" additional_kwargs={'refusal': None} response_metadata={'token_usage': {'completion_tokens': 193, 'prompt_tokens': 843, 'total_tokens': 1036, 'completion_tokens_details': {'accepted_prediction_tokens': None, 'audio_tokens': None, 'reasoning_tokens': None, 'rejected_prediction_tokens': None}, 'prompt_tokens_details': {'audio_tokens': None, 'cached_tokens': None}}, 'model_name': 'gpt-3.5-turbo', 'system_fingerprint': None, 'finish_reason': 'stop', 'logprobs': None} id='run-5d7c8f9a-e088-4ed7-8879-8581fbd0438d-0' usage_metadata={'input_tokens': 843, 'output_tokens': 193, 'total_tokens': 1036, 'input_token_details': {}, 'output_token_details': {}}\n"
     ]
    }
   ],
   "source": [
    "from langchain_openai import ChatOpenAI\n",
    "\n",
    "chat = ChatOpenAI(\n",
    "    openai_api_base=os.getenv(\"OPENAI_API_BASE\"),\n",
    "    openai_api_key=os.getenv(\"OPENAI_API_KEY\"),\n",
    "    # tream=True,\n",
    "    temperature=0)\n",
    "\n",
    "messages=[\n",
    "    {\"role\": \"system\", \"content\": \"You will receive a user's query and possible content where the answer might be. If the answer is found, provide it, if not, state that the answer does not exist.\"},\n",
    "    {\"role\": \"user\", \"content\": prompt}\n",
    "]\n",
    "\n",
    "# Call the model with the messages\n",
    "response = chat.invoke(messages)\n",
    "\n",
    "# Print the response\n",
    "print(response)"
   ]
  },
  {
   "cell_type": "markdown",
   "metadata": {},
   "source": [
    "Printing the response"
   ]
  },
  {
   "cell_type": "code",
   "execution_count": 14,
   "metadata": {},
   "outputs": [
    {
     "name": "stdout",
     "output_type": "stream",
     "text": [
      "('The cancellation rules for a flight ticket at Swiss Airline policy depend on '\n",
      " 'the type of ticket you have purchased. Below are the general guidelines:\\n'\n",
      " '\\n'\n",
      " '1. **Flex Ticket:** \\n'\n",
      " '   - You can cancel your flight without incurring any fees and receive a '\n",
      " 'full refund.\\n'\n",
      " '\\n'\n",
      " '2. **Standard Ticket:**\\n'\n",
      " '   - If you cancel your flight within 24 hours of booking, you can receive a '\n",
      " 'full refund.\\n'\n",
      " '   - If you cancel your flight after 24 hours, you may be charged a '\n",
      " 'cancellation fee and receive a partial refund.\\n'\n",
      " '\\n'\n",
      " '3. **Economy Ticket:**\\n'\n",
      " '   - If you cancel your flight within 24 hours of booking, you can receive a '\n",
      " 'full refund.\\n'\n",
      " '   - If you cancel your flight after 24 hours, you may be charged a '\n",
      " 'cancellation fee and receive a partial refund.\\n'\n",
      " '\\n'\n",
      " \"It's important to note that the refund policy and cancellation fees may vary \"\n",
      " 'based on the route, time of cancellation, and any add-ons or upgrades you '\n",
      " 'have purchased.')\n"
     ]
    }
   ],
   "source": [
    "pprint(response.content)"
   ]
  },
  {
   "cell_type": "markdown",
   "metadata": {},
   "source": [
    "**RAG Tool design using LangChain**"
   ]
  },
  {
   "cell_type": "code",
   "execution_count": 15,
   "metadata": {},
   "outputs": [],
   "source": [
    "from langchain_core.tools import tool\n",
    "\n",
    "@tool\n",
    "def lookup_swiss_airline_policy(query: str)->str:\n",
    "    \"\"\"Search within the Swiss Airline's company policies to check whether certain options are permitted. Input should be a search query.\"\"\"\n",
    "    vectordb = Chroma(\n",
    "    collection_name=\"rag-chroma\",\n",
    "    persist_directory=str(here(VECTORDB_DIR)),\n",
    "    embedding_function=OpenAIEmbeddings()\n",
    "    )\n",
    "    docs = vectordb.similarity_search(query, k=K)\n",
    "    return \"\\n\\n\".join([doc.page_content for doc in docs])"
   ]
  },
  {
   "cell_type": "code",
   "execution_count": 16,
   "metadata": {},
   "outputs": [
    {
     "name": "stdout",
     "output_type": "stream",
     "text": [
      "lookup_swiss_airline_policy\n",
      "{'query': {'title': 'Query', 'type': 'string'}}\n",
      "Search within the Swiss Airline's company policies to check whether certain options are permitted. Input should be a search query.\n"
     ]
    }
   ],
   "source": [
    "print(lookup_swiss_airline_policy.name)\n",
    "print(lookup_swiss_airline_policy.args)\n",
    "print(lookup_swiss_airline_policy.description)"
   ]
  },
  {
   "cell_type": "code",
   "execution_count": 17,
   "metadata": {
    "scrolled": true
   },
   "outputs": [
    {
     "name": "stdout",
     "output_type": "stream",
     "text": [
      "('circumstances such as bad weather or political unrest, Swiss Airlines may '\n",
      " 'not be obligated to offer any compensation. In\\n'\n",
      " \"summary, Swiss Airlines' cancellation policy varies depending on your fare \"\n",
      " 'type and the time of cancellation. To avoid any\\n'\n",
      " \"unnecessary fees or charges, it's important to familiarise yourself with the \"\n",
      " 'terms and conditions of your ticket and to\\n'\n",
      " 'contact Swiss Airlines as soon as possible if you need to make changes or '\n",
      " 'cancel your flight.\\n'\n",
      " 'How to Cancel a Swiss Air Flight? If you need to cancel a Swiss Air flight, '\n",
      " 'you can do so online, through the mobile app,\\n'\n",
      " 'or by contacting the Swiss Air Customer Service team. To cancel a flight '\n",
      " 'online, you can log in to your Swiss Air account\\n'\n",
      " 'and follow the instructions provided.\\n'\n",
      " 'Swiss Air Flight Cancellations Online If you need to cancel a Swiss Air '\n",
      " 'flight, you can do so by following these steps:\\n'\n",
      " 'Visit the Swiss Air website or app and navigate to the \"My Bookings\" '\n",
      " 'section. Log in with your booking details. Find the\\n'\n",
      " 'flight you want to cancel and click on the \"Cancel\" button. Follow the '\n",
      " 'prompts to confirm your cancellation. Review the\\n'\n",
      " 'cancellation policy and any fees that may apply. If eligible for a refund, '\n",
      " 'submit a refund request through the website or\\n'\n",
      " 'app. Alternatively, you can also cancel your Swiss Air flight by contacting '\n",
      " 'their customer service department via phone,\\n'\n",
      " 'email or live chat. Be sure to have your booking details ready when you '\n",
      " 'contact them. Keep in mind that depending on\\n'\n",
      " 'the fare type and the timing of your cancellation, you may be subject to '\n",
      " 'fees or penalties.\\n'\n",
      " 'If you choose to cancel your flight through the Swiss Air Customer Service '\n",
      " 'team, you can contact them through the\\n'\n",
      " 'phone or email. It is important to note that cancellation fees may apply '\n",
      " 'depending on the type of ticket you have\\n'\n",
      " 'purchased.\\n'\n",
      " 'Swiss Air Flight Cancellations via Call Step 1: Find the Customer Service '\n",
      " 'Number\\n'\n",
      " '\\n'\n",
      " \"conditions of your ticket to make sure you're eligible for a refund.\\n\"\n",
      " 'Swiss Air Cancellation Fees The cancellation fees for Swiss Air flights may '\n",
      " 'vary depending on the type of ticket you have\\n'\n",
      " 'purchased. The airline offers three different types of tickets, which are:\\n'\n",
      " 'Flex Ticket - This ticket offers the most flexibility and allows passengers '\n",
      " 'to make changes or cancel their flight without\\n'\n",
      " 'incurring any additional fees. Standard Ticket - This ticket offers some '\n",
      " 'flexibility but charges a fee for changes and\\n'\n",
      " 'cancellations. The fee for cancelling a standard ticket can range from 100 '\n",
      " 'to 250 CHF, depending on the route and time\\n'\n",
      " 'of cancellation. Economy Ticket - This ticket offers the least flexibility '\n",
      " 'and charges a fee for any changes or cancellations.\\n'\n",
      " 'The fee for cancelling an economy ticket can range from 150 to 350 CHF, '\n",
      " 'depending on the route and time of\\n'\n",
      " 'cancellation. It is important to note that the fees listed above are subject '\n",
      " 'to change and may vary depending on the\\n'\n",
      " 'specific ticket you have purchased. Additionally, if you have purchased any '\n",
      " 'add-ons or upgrades, such as extra baggage\\n'\n",
      " 'or seat selection, the fees associated with cancelling those may also '\n",
      " 'apply.\\n'\n",
      " 'Swiss Air Refund Policy If you cancel your Swiss Air flight, you may be '\n",
      " 'eligible for a refund depending on the type of\\n'\n",
      " 'ticket you have purchased and the time of cancellation. Here are the '\n",
      " 'details:\\n'\n",
      " 'Flex Ticket - If you have purchased a Flex Ticket, you can cancel your '\n",
      " 'flight without incurring any fees and receive a full\\n'\n",
      " 'refund. Standard Ticket - If you have purchased a Standard Ticket and cancel '\n",
      " 'your flight within 24 hours of booking, you\\n'\n",
      " 'can receive a full refund. If you cancel your flight after 24 hours, you may '\n",
      " 'be charged a cancellation fee and receive a\\n'\n",
      " 'partial refund. Economy Ticket - If you have purchased an Economy Ticket and '\n",
      " 'cancel your flight within 24 hours of\\n'\n",
      " 'booking, you can receive a full refund. If you cancel your flight after 24 '\n",
      " 'hours, you may be charged a cancellation fee and')\n"
     ]
    }
   ],
   "source": [
    "pprint(lookup_swiss_airline_policy.invoke(\"can I cancel my ticket?\"))"
   ]
  },
  {
   "cell_type": "code",
   "execution_count": null,
   "metadata": {},
   "outputs": [],
   "source": []
  }
 ],
 "metadata": {
  "kernelspec": {
   "display_name": "Python (env-name)",
   "language": "python",
   "name": "env-name"
  },
  "language_info": {
   "codemirror_mode": {
    "name": "ipython",
    "version": 3
   },
   "file_extension": ".py",
   "mimetype": "text/x-python",
   "name": "python",
   "nbconvert_exporter": "python",
   "pygments_lexer": "ipython3",
   "version": "3.10.16"
  }
 },
 "nbformat": 4,
 "nbformat_minor": 4
}
