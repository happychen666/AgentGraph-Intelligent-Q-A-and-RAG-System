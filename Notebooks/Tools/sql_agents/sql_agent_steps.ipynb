{
 "cells": [
  {
   "cell_type": "code",
   "execution_count": 22,
   "metadata": {},
   "outputs": [
    {
     "name": "stdout",
     "output_type": "stream",
     "text": [
      "Original table info: \n",
      "CREATE TABLE aircrafts_data (\n",
      "\taircraft_code TEXT(3) NOT NULL, \n",
      "\tmodel NUMERIC NOT NULL, \n",
      "\trange INTEGER NOT NULL\n",
      ")\n"
     ]
    }
   ],
   "source": [
    "import os\n",
    "from dotenv import load_dotenv\n",
    "from pyprojroot import here\n",
    "from langchain.chains import create_sql_query_chain\n",
    "from langchain_community.agent_toolkits import create_sql_agent\n",
    "from langchain_openai import ChatOpenAI\n",
    "from langchain_community.agent_toolkits.sql.toolkit import SQLDatabaseToolkit\n",
    "from langchain_community.utilities import SQLDatabase\n",
    "\n",
    "# 强制覆盖已存在的环境变量
load_dotenv(override=True)\n",
    "import sqlalchemy\n",
    "sqldb_directory = here(\"data/travel.sqlite\")\n",
    "db = SQLDatabase.from_uri(f\"sqlite:///{sqldb_directory}\",\n",
    "                          sample_rows_in_table_info=0  # 禁用采样行\n",
    "                         )\n",
    "table_info = db.get_table_info([\"aircrafts_data\"])  # 注意需要传递列表\n",
    "print(f\"Original table info: {table_info}\")"
   ]
  },
  {
   "cell_type": "markdown",
   "metadata": {},
   "source": [
    "**Set the environment variable and load the LLM**"
   ]
  },
  {
   "cell_type": "code",
   "execution_count": 23,
   "metadata": {},
   "outputs": [
    {
     "name": "stdout",
     "output_type": "stream",
     "text": [
      "Original table info: \n",
      "CREATE TABLE airports_data (\n",
      "\tairport_code TEXT(3) NOT NULL, \n",
      "\tairport_name NUMERIC NOT NULL, \n",
      "\tcity NUMERIC NOT NULL, \n",
      "\tcoordinates INTEGER NOT NULL, \n",
      "\ttimezone TEXT NOT NULL\n",
      ")\n",
      "sqlite\n",
      "['aircrafts_data', 'airports_data', 'boarding_passes', 'bookings', 'flights', 'seats', 'ticket_flights', 'tickets'] \n",
      "\n"
     ]
    }
   ],
   "source": [
    "table_info = db.get_table_info([\"airports_data\"])  # 注意需要传递列表\n",
    "print(f\"Original table info: {table_info}\")\n",
    "\n",
    "db.run(\"SELECT * FROM aircrafts_data LIMIT 10;\")\n",
    "print(db.dialect)\n",
    "print(db.get_usable_table_names(),'\\n')"
   ]
  },
  {
   "cell_type": "code",
   "execution_count": 27,
   "metadata": {},
   "outputs": [
    {
     "name": "stdout",
     "output_type": "stream",
     "text": [
      "\n",
      "Final Response: To answer this question, we need to find the type of seats available on a flight. Since the question doesn't specify a particular flight, we'll query for the most recent flights and their corresponding seat types.\n",
      "\n",
      "Question: What type of seat is available on the flight?\n",
      "SQLQuery: \n",
      "```sql\n",
      "SELECT DISTINCT \"fare_conditions\" \n",
      "FROM seats \n",
      "ORDER BY \"aircraft_code\" \n",
      "LIMIT 5;\n",
      "```\n",
      "However, the above query only returns the fare conditions of the seats and does not provide information about the flights. To get more informative results, we can join the seats table with the flights table.\n",
      "\n",
      "```sql\n",
      "SELECT DISTINCT f.\"flight_no\", s.\"fare_conditions\" \n",
      "FROM seats s \n",
      "JOIN flights f ON s.\"aircraft_code\" = f.\"aircraft_code\" \n",
      "ORDER BY f.\"scheduled_departure\" DESC \n",
      "LIMIT 5;\n",
      "```\n"
     ]
    }
   ],
   "source": [
    "import getpass\n",
    "import os\n",
    "from langchain.chat_models import init_chat_model\n",
    "from langchain_core.messages import HumanMessage, ToolMessage,SystemMessage\n",
    "\n",
    "messages=[SystemMessage(content=\"请只返回最终结果，不要解释，如果没有找到结果，请返回无法找到答案\")]\n",
    "query = \"What type of seat is available on the flight?\"\n",
    "messages.append(HumanMessage(query))\n",
    "# 如果没有设置 GROQ_API_KEY，则提示用户输入\n",
    "if not os.environ.get(\"GROQ_API_KEY\"):\n",
    "    os.environ[\"GROQ_API_KEY\"] = getpass.getpass(\"Enter API key for Groq: \")\n",
    "\n",
    "# 初始化 Llama 模型，使用 Groq 后端\n",
    "llm = init_chat_model(\"llama-3.3-70b-versatile\", model_provider=\"groq\", temperature=0)\n",
    "chain = create_sql_query_chain(llm, db)\n",
    "response = chain.invoke({\"question\": \"What type of seat is available on the flight?\"})\n",
    "\n",
    "print(\"\\nFinal Response:\", response)\n"
   ]
  },
  {
   "cell_type": "markdown",
   "metadata": {},
   "source": [
    "**Load and test the sqlite db**"
   ]
  },
  {
   "cell_type": "code",
   "execution_count": 33,
   "metadata": {},
   "outputs": [
    {
     "name": "stdout",
     "output_type": "stream",
     "text": [
      "sqlite\n",
      "['Album', 'Artist', 'Customer', 'Employee', 'Genre', 'Invoice', 'InvoiceLine', 'MediaType', 'Playlist', 'PlaylistTrack', 'Track']\n"
     ]
    },
    {
     "data": {
      "text/plain": [
       "\"[(1, 2, '2021-01-01 00:00:00', 'Theodor-Heuss-Straße 34', 'Stuttgart', None, 'Germany', '70174', 1.98), (2, 4, '2021-01-02 00:00:00', 'Ullevålsveien 14', 'Oslo', None, 'Norway', '0171', 3.96), (3, 8, '2021-01-03 00:00:00', 'Grétrystraat 63', 'Brussels', None, 'Belgium', '1000', 5.94), (4, 14, '2021-01-06 00:00:00', '8210 111 ST NW', 'Edmonton', 'AB', 'Canada', 'T6G 2C7', 8.91), (5, 23, '2021-01-11 00:00:00', '69 Salem Street', 'Boston', 'MA', 'USA', '2113', 13.86), (6, 37, '2021-01-19 00:00:00', 'Berger Straße 10', 'Frankfurt', None, 'Germany', '60316', 0.99), (7, 38, '2021-02-01 00:00:00', 'Barbarossastraße 19', 'Berlin', None, 'Germany', '10779', 1.98), (8, 40, '2021-02-01 00:00:00', '8, Rue Hanovre', 'Paris', None, 'France', '75002', 1.98), (9, 42, '2021-02-02 00:00:00', '9, Place Louis Barthou', 'Bordeaux', None, 'France', '33000', 3.96), (10, 46, '2021-02-03 00:00:00', '3 Chatham Street', 'Dublin', 'Dublin', 'Ireland', None, 5.94)]\""
      ]
     },
     "execution_count": 33,
     "metadata": {},
     "output_type": "execute_result"
    }
   ],
   "source": [
    "sqldb_directory = here(\"data/Chinook.db\")\n",
    "db = SQLDatabase.from_uri(f\"sqlite:///{sqldb_directory}\")\n",
    "print(db.dialect)\n",
    "print(db.get_usable_table_names())\n",
    "db.run(\"SELECT * FROM Invoice LIMIT 10;\")"
   ]
  },
  {
   "cell_type": "code",
   "execution_count": 32,
   "metadata": {},
   "outputs": [
    {
     "name": "stdout",
     "output_type": "stream",
     "text": [
      "Original table info: \n",
      "CREATE TABLE \"Employee\" (\n",
      "\t\"EmployeeId\" INTEGER NOT NULL, \n",
      "\t\"LastName\" NVARCHAR(20) NOT NULL, \n",
      "\t\"FirstName\" NVARCHAR(20) NOT NULL, \n",
      "\t\"Title\" NVARCHAR(30), \n",
      "\t\"ReportsTo\" INTEGER, \n",
      "\t\"BirthDate\" DATETIME, \n",
      "\t\"HireDate\" DATETIME, \n",
      "\t\"Address\" NVARCHAR(70), \n",
      "\t\"City\" NVARCHAR(40), \n",
      "\t\"State\" NVARCHAR(40), \n",
      "\t\"Country\" NVARCHAR(40), \n",
      "\t\"PostalCode\" NVARCHAR(10), \n",
      "\t\"Phone\" NVARCHAR(24), \n",
      "\t\"Fax\" NVARCHAR(24), \n",
      "\t\"Email\" NVARCHAR(60), \n",
      "\tPRIMARY KEY (\"EmployeeId\"), \n",
      "\tFOREIGN KEY(\"ReportsTo\") REFERENCES \"Employee\" (\"EmployeeId\")\n",
      ")\n",
      "\n",
      "/*\n",
      "3 rows from Employee table:\n",
      "EmployeeId\tLastName\tFirstName\tTitle\tReportsTo\tBirthDate\tHireDate\tAddress\tCity\tState\tCountry\tPostalCode\tPhone\tFax\tEmail\n",
      "1\tAdams\tAndrew\tGeneral Manager\tNone\t1962-02-18 00:00:00\t2002-08-14 00:00:00\t11120 Jasper Ave NW\tEdmonton\tAB\tCanada\tT5K 2N1\t+1 (780) 428-9482\t+1 (780) 428-3457\tandrew@chinookcorp.com\n",
      "2\tEdwards\tNancy\tSales Manager\t1\t1958-12-08 00:00:00\t2002-05-01 00:00:00\t825 8 Ave SW\tCalgary\tAB\tCanada\tT2P 2T3\t+1 (403) 262-3443\t+1 (403) 262-3322\tnancy@chinookcorp.com\n",
      "3\tPeacock\tJane\tSales Support Agent\t2\t1973-08-29 00:00:00\t2002-04-01 00:00:00\t1111 6 Ave SW\tCalgary\tAB\tCanada\tT2P 5M5\t+1 (403) 262-3443\t+1 (403) 262-6712\tjane@chinookcorp.com\n",
      "*/\n"
     ]
    }
   ],
   "source": [
    "table_info = db.get_table_info([\"Employee\"])  # 注意需要传递列表\n",
    "print(f\"Original table info: {table_info}\")"
   ]
  },
  {
   "cell_type": "code",
   "execution_count": 42,
   "metadata": {},
   "outputs": [
    {
     "name": "stdout",
     "output_type": "stream",
     "text": [
      "SELECT COUNT(\"PlaylistId\") FROM \"Playlist\"\n"
     ]
    },
    {
     "data": {
      "text/plain": [
       "'[(18,)]'"
      ]
     },
     "execution_count": 42,
     "metadata": {},
     "output_type": "execute_result"
    }
   ],
   "source": [
    "from langchain import debug\n",
    "\n",
    "debug = True  # 启用调试模式\n",
    "from langchain_core.output_parsers import StrOutputParser\n",
    "from langchain_core.prompts import ChatPromptTemplate\n",
    "\n",
    "system = \"\"\"Double check the user's {dialect} query for common mistakes, including:\n",
    "- Only return SQL Query not anything else like ```sql ... ```\n",
    "- Using NOT IN with NULL values\n",
    "- Using UNION when UNION ALL should have been used\n",
    "- Using BETWEEN for exclusive ranges\n",
    "- Data type mismatch in predicates\\\n",
    "- Using the correct number of arguments for functions\n",
    "- Casting to the correct data type\n",
    "- Using the proper columns for joins\n",
    "\n",
    "If there are any of the above mistakes, rewrite the query.\n",
    "If there are no mistakes, just reproduce the original query with no further commentary.\n",
    "\n",
    "Output the final SQL query only.\"\"\"\n",
    "\n",
    "prompt = ChatPromptTemplate.from_messages(\n",
    "    [(\"system\", system), (\"human\", \"{query}\")]\n",
    ").partial(dialect=db.dialect)\n",
    "\n",
    "validation_chain = prompt | llm | StrOutputParser()\n",
    "\n",
    "full_chain = {\"query\": chain} | validation_chain\n",
    "query = full_chain.invoke(\n",
    "    {\n",
    "        \"question\": \"How many Playlist are there?\"\n",
    "    }\n",
    ")\n",
    "print(query)\n",
    "\n",
    "db.run(query)\n",
    "\n",
    "# chain = create_sql_query_chain(llm, db)\n",
    "# response = chain.invoke({\"question\": \"How many Genre are there?\"})\n",
    "# response\n"
   ]
  },
  {
   "cell_type": "code",
   "execution_count": 37,
   "metadata": {
    "scrolled": true
   },
   "outputs": [
    {
     "name": "stdout",
     "output_type": "stream",
     "text": [
      "client=<groq.resources.chat.completions.Completions object at 0x000002D41E9E4280> async_client=<groq.resources.chat.completions.AsyncCompletions object at 0x000002D41E9E5930> model_name='llama-3.3-70b-versatile' temperature=1e-08 model_kwargs={} groq_api_key=SecretStr('**********')\n"
     ]
    },
    {
     "data": {
      "text/plain": [
       "'To answer the question \"What are the names?\", we need to consider which table(s) contain a \"Name\" column. Based on the provided schema, the \"Name\" column exists in the \"Artist\", \"Genre\", \"MediaType\", \"Playlist\", and \"Track\" tables.\\n\\nTo provide a meaningful answer, let\\'s query the \"Artist\" table for artist names, the \"Genre\" table for genre names, the \"MediaType\" table for media type names, the \"Playlist\" table for playlist names, and the \"Track\" table for track names.\\n\\nHere are the SQL queries:\\n\\n```sql\\nSELECT \"Name\" FROM \"Artist\" LIMIT 5;\\nSELECT \"Name\" FROM \"Genre\" LIMIT 5;\\nSELECT \"Name\" FROM \"MediaType\" LIMIT 5;\\nSELECT \"Name\" FROM \"Playlist\" LIMIT 5;\\nSELECT \"Name\" FROM \"Track\" LIMIT 5;\\n```\\n\\nLet\\'s assume the results are as follows:\\n\\nSQLResult (Artist):\\nName\\nAC/DC\\nAccept\\nAerosmith\\n\\nSQLResult (Genre):\\nName\\nRock\\nJazz\\nMetal\\n\\nSQLResult (MediaType):\\nName\\nMPEG audio file\\nProtected AAC audio file\\nProtected MPEG-4 video file\\n\\nSQLResult (Playlist):\\nName\\nMusic\\nMovies\\nTV Shows\\n\\nSQLResult (Track):\\nName\\nFor Those About To Rock (We Salute You)\\nBalls to the Wall\\nFast As a Shark\\n\\nAnswer: \\nThe names are: \\n- Artist names: AC/DC, Accept, Aerosmith\\n- Genre names: Rock, Jazz, Metal\\n- Media type names: MPEG audio file, Protected AAC audio file, Protected MPEG-4 video file\\n- Playlist names: Music, Movies, TV Shows\\n- Track names: For Those About To Rock (We Salute You), Balls to the Wall, Fast As a Shark'"
      ]
     },
     "execution_count": 37,
     "metadata": {},
     "output_type": "execute_result"
    }
   ],
   "source": [
    "# from langchain.prompts import PromptTemplate\n",
    "# from langchain.chains import LLMChain\n",
    "\n",
    "# custom_prompt = PromptTemplate(\n",
    "#     input_variables=[\"question\"],\n",
    "#     template=\"\"\"\n",
    "#     You are an SQL expert. Given the input question, generate an SQL query that answers the question.\n",
    "#     The query must be simple and efficient. For example, if the question is about counting rows,\n",
    "#     the query should use SELECT COUNT(*) syntax.\n",
    "#     Question: {question}\n",
    "#     \"\"\"\n",
    "# )\n",
    "\n",
    "# chain = LLMChain(llm=llm, prompt=custom_prompt)\n",
    "# response = chain.invoke({\"question\": \"How many rows are there in the aircrafts_data table?\"})\n",
    "# print(response['text'])\n",
    "print(llm)\n",
    "\n",
    "chain = create_sql_query_chain(llm, db)\n",
    "# response = chain.invoke({\"question\": \"What type of seat is available on the flight?\"})\n",
    "\n",
    "response = chain.invoke({\"question\": \"What are the names?\"})\n",
    "response"
   ]
  },
  {
   "cell_type": "markdown",
   "metadata": {},
   "source": [
    "**Create the SQL agent and run a test query**"
   ]
  },
  {
   "cell_type": "code",
   "execution_count": 12,
   "metadata": {},
   "outputs": [
    {
     "data": {
      "text/plain": [
       "'[(0.99,), (1.98,), (1.99,), (2.98,), (3.96,)]'"
      ]
     },
     "execution_count": 12,
     "metadata": {},
     "output_type": "execute_result"
    }
   ],
   "source": [
    "db.run(response)"
   ]
  },
  {
   "cell_type": "code",
   "execution_count": 14,
   "metadata": {},
   "outputs": [
    {
     "name": "stdout",
     "output_type": "stream",
     "text": [
      "SQL Query Result: [(9,)]\n"
     ]
    }
   ],
   "source": [
    "query = \"SELECT COUNT(*) FROM aircrafts_data;\"\n",
    "result = db.run(query)\n",
    "print(f\"SQL Query Result: {result}\")\n"
   ]
  },
  {
   "cell_type": "code",
   "execution_count": null,
   "metadata": {},
   "outputs": [],
   "source": []
  }
 ],
 "metadata": {
  "kernelspec": {
   "display_name": "Python (env-name)",
   "language": "python",
   "name": "env-name"
  },
  "language_info": {
   "codemirror_mode": {
    "name": "ipython",
    "version": 3
   },
   "file_extension": ".py",
   "mimetype": "text/x-python",
   "name": "python",
   "nbconvert_exporter": "python",
   "pygments_lexer": "ipython3",
   "version": "3.10.16"
  }
 },
 "nbformat": 4,
 "nbformat_minor": 4
}
