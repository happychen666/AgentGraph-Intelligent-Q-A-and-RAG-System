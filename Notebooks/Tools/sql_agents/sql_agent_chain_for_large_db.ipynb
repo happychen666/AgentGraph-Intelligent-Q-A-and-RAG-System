{
 "cells": [
  {
   "cell_type": "markdown",
   "metadata": {},
   "source": [
    "**Reference: https://python.langchain.com/v0.1/docs/use_cases/sql/large_db/**"
   ]
  },
  {
   "cell_type": "markdown",
   "metadata": {},
   "source": [
    "What happens in this notebook:\n",
    "\n",
    "### **Table Model Definition**\n",
    "   - **`Table` Class**: This is a simple Pydantic model representing a SQL table. It has one attribute, `name`, which is a string and is described as \"Name of table in SQL database.\"\n",
    "     - This model is used in the extraction process to match relevant SQL tables based on the user's query.\n",
    "\n",
    "### **Helper Function - `get_tables`**\n",
    "   - **`get_tables`**: This function takes a list of `Table` objects (i.e., categories such as \"Music\" or \"Business\") and returns a list of corresponding SQL table names based on the category.\n",
    "     - For example, if the category is `\"Music\"`, the tables `\"Album\"`, `\"Artist\"`, `\"Genre\"`, etc., are added to the result.\n",
    "     - Similarly, for `\"Business\"`, the corresponding tables like `\"Customer\"`, `\"Employee\"`, etc., are included.\n",
    "\n",
    "### **Designing the agent for the large DB**\n",
    "\n",
    "- **Step 1: Initialize LLM (`sql_agent_llm`)**: The LLM is instantiated with a given model (e.g., `\"gpt-3.5-turbo\"`) and temperature. The temperature controls how creative/random the model's responses are.\n",
    "- **Step 2: Connect to the SQL Database (`db`)**: The connection to the Chinook SQLite database is established. The database URI is constructed using the `sqldb_directory` provided.\n",
    "- **Step 3: Define Category Chain (`category_chain`)**: The `category_chain_system` is defined, which is a string explaining the categories available (like \"Music\" and \"Business\"). This chain determines which SQL tables are relevant to the user query based on the category.\n",
    "- **Step 4: Chain Creation**:\n",
    "- **`category_chain`**: This uses the `create_extraction_chain_pydantic` function, which creates an extraction chain that identifies relevant SQL tables from the user's question using the `Table` Pydantic model and the LLM.\n",
    "- **`table_chain`**: A chain is formed by combining the output from `category_chain` with the `get_tables` function, so it maps categories to the actual SQL tables.\n",
    "- **Step 5: Query Chain (`query_chain`)**: This creates a SQL query chain using the LLM and the database (`self.db`). It takes the SQL tables and constructs a query.\n",
    "- **Step 6: Table Chain Input Handling**: The `\"question\"` key from the user input is mapped to the `\"input\"` key expected by the `table_chain`. This enables the chain to process user queries correctly.\n",
    "- **Step 7: Full Chain Construction**: Finally, the full chain (`full_chain`) is created by combining:\n",
    "1. **`RunnablePassthrough.assign`**: This sets up a step that assigns the `table_names_to_use` using the result of the `table_chain`.\n",
    "2. **`query_chain`**: Executes the SQL query once the relevant tables are identified."
   ]
  },
  {
   "cell_type": "code",
   "execution_count": 7,
   "metadata": {},
   "outputs": [
    {
     "data": {
      "text/plain": [
       "True"
      ]
     },
     "execution_count": 7,
     "metadata": {},
     "output_type": "execute_result"
    }
   ],
   "source": [
    "import os\n",
    "import getpass\n",
    "from dotenv import load_dotenv\n",
    "from pyprojroot import here\n",
    "from typing import List\n",
    "from pprint import pprint\n",
    "\n",
    "from langchain.chat_models import init_chat_model\n",
    "from langchain_core.prompts import PromptTemplate\n",
    "from langchain_community.utilities import SQLDatabase\n",
    "from langchain.chains import create_sql_query_chain\n",
    "from langchain_community.agent_toolkits import create_sql_agent\n",
    "from langchain_community.tools.sql_database.tool import QuerySQLDataBaseTool\n",
    "from langchain_community.agent_toolkits.sql.toolkit import SQLDatabaseToolkit\n",
    "\n",
    "load_dotenv()"
   ]
  },
  {
   "cell_type": "markdown",
   "metadata": {},
   "source": [
    "**Set the environment variables and load the LLM**"
   ]
  },
  {
   "cell_type": "code",
   "execution_count": 8,
   "metadata": {},
   "outputs": [],
   "source": [
    "# 如果没有设置 GROQ_API_KEY，则提示用户输入\n",
    "if not os.environ.get(\"GROQ_API_KEY\"):\n",
    "    os.environ[\"GROQ_API_KEY\"] = getpass.getpass(\"Enter API key for Groq: \")\n",
    "#  初始化 Llama 模型，使用 Groq 后端\n",
    "table_extractor_llm = init_chat_model(\"llama-3.3-70b-specdec\", model_provider=\"groq\", temperature=0)"
   ]
  },
  {
   "cell_type": "code",
   "execution_count": 9,
   "metadata": {},
   "outputs": [
    {
     "name": "stdout",
     "output_type": "stream",
     "text": [
      "sqlite\n",
      "['Album', 'Artist', 'Customer', 'Employee', 'Genre', 'Invoice', 'InvoiceLine', 'MediaType', 'Playlist', 'PlaylistTrack', 'Track']\n"
     ]
    },
    {
     "data": {
      "text/plain": [
       "\"[(1, 'AC/DC'), (2, 'Accept'), (3, 'Aerosmith'), (4, 'Alanis Morissette'), (5, 'Alice In Chains'), (6, 'Antônio Carlos Jobim'), (7, 'Apocalyptica'), (8, 'Audioslave'), (9, 'BackBeat'), (10, 'Billy Cobham')]\""
      ]
     },
     "execution_count": 9,
     "metadata": {},
     "output_type": "execute_result"
    }
   ],
   "source": [
    "sqldb_directory = here(\"data/Chinook.db\")\n",
    "db = SQLDatabase.from_uri(f\"sqlite:///{sqldb_directory}\")\n",
    "print(db.dialect)\n",
    "print(db.get_usable_table_names())\n",
    "db.run(\"SELECT * FROM Artist LIMIT 10;\")"
   ]
  },
  {
   "cell_type": "code",
   "execution_count": 12,
   "metadata": {},
   "outputs": [
    {
     "data": {
      "text/plain": [
       "\"[('Rock',)]\""
      ]
     },
     "execution_count": 12,
     "metadata": {},
     "output_type": "execute_result"
    }
   ],
   "source": [
    "db.run('''\n",
    "    SELECT DISTINCT \"g\".\"Name\"\n",
    "    FROM \"Track\" AS \"t\"\n",
    "    JOIN \"Album\" AS \"a\" ON \"t\".\"AlbumId\" = \"a\".\"AlbumId\"\n",
    "    JOIN \"Genre\" AS \"g\" ON \"t\".\"GenreId\" = \"g\".\"GenreId\"\n",
    "    JOIN \"Artist\" AS \"ar\" ON \"a\".\"ArtistId\" = \"ar\".\"ArtistId\"\n",
    "    WHERE \"ar\".\"Name\" = 'Alanis Morissette'\n",
    "    ORDER BY \"g\".\"Name\";\n",
    "''')\n"
   ]
  },
  {
   "cell_type": "markdown",
   "metadata": {},
   "source": [
    "**Prepare the `Table` class**"
   ]
  },
  {
   "cell_type": "code",
   "execution_count": 4,
   "metadata": {},
   "outputs": [],
   "source": [
    "from pydantic import BaseModel, Field\n",
    "\n",
    "class Table(BaseModel):\n",
    "    \"\"\"\n",
    "    Represents a table in the SQL database.\n",
    "\n",
    "    Attributes:\n",
    "        name (str): The name of the table in the SQL database.\n",
    "    \"\"\"\n",
    "    name: str = Field(description=\"Name of table in SQL database.\")"
   ]
  },
  {
   "cell_type": "markdown",
   "metadata": {},
   "source": [
    "### **Strategy A:**"
   ]
  },
  {
   "cell_type": "code",
   "execution_count": 6,
   "metadata": {},
   "outputs": [
    {
     "name": "stdout",
     "output_type": "stream",
     "text": [
      "('Album\\n'\n",
      " 'Artist\\n'\n",
      " 'Customer\\n'\n",
      " 'Employee\\n'\n",
      " 'Genre\\n'\n",
      " 'Invoice\\n'\n",
      " 'InvoiceLine\\n'\n",
      " 'MediaType\\n'\n",
      " 'Playlist\\n'\n",
      " 'PlaylistTrack\\n'\n",
      " 'Track')\n"
     ]
    }
   ],
   "source": [
    "table_names = \"\\n\".join(db.get_usable_table_names())\n",
    "pprint(table_names)"
   ]
  },
  {
   "cell_type": "code",
   "execution_count": 8,
   "metadata": {},
   "outputs": [
    {
     "name": "stderr",
     "output_type": "stream",
     "text": [
      "C:\\Users\\陈群\\AppData\\Local\\Temp\\ipykernel_21004\\3082656754.py:9: LangChainDeprecationWarning: LangChain has introduced a method called `with_structured_output` thatis available on ChatModels capable of tool calling.You can read more about the method here: <https://python.langchain.com/docs/modules/model_io/chat/structured_output/>. Please follow our extraction use case documentation for more guidelineson how to do information extraction with LLMs.<https://python.langchain.com/docs/use_cases/extraction/>. with_structured_output does not currently support a list of pydantic schemas. If this is a blocker or if you notice other issues, please provide feedback here:<https://github.com/langchain-ai/langchain/discussions/18154>\n",
      "  table_chain = create_extraction_chain_pydantic(pydantic_schemas=Table, llm=table_extractor_llm, system_message=system)\n"
     ]
    },
    {
     "data": {
      "text/plain": [
       "[Table(name='Genre'),\n",
       " Table(name='Artist'),\n",
       " Table(name='Track'),\n",
       " Table(name='Album')]"
      ]
     },
     "execution_count": 8,
     "metadata": {},
     "output_type": "execute_result"
    }
   ],
   "source": [
    "from langchain.chains.openai_tools import create_extraction_chain_pydantic\n",
    "\n",
    "system = f\"\"\"Return the names of ALL the SQL tables that MIGHT be relevant to the user question. \\\n",
    "The tables are:\n",
    "\n",
    "{table_names}\n",
    "\n",
    "Remember to include ALL POTENTIALLY RELEVANT tables, even if you're not sure that they're needed.\"\"\"\n",
    "table_chain = create_extraction_chain_pydantic(pydantic_schemas=Table, llm=table_extractor_llm, system_message=system)\n",
    "table_chain.invoke({\"input\": \"What are all the genres of Alanis Morisette songs\"})"
   ]
  },
  {
   "cell_type": "markdown",
   "metadata": {},
   "source": [
    "### **Strategy B:**"
   ]
  },
  {
   "cell_type": "markdown",
   "metadata": {},
   "source": [
    "Music:\n",
    "\n",
    "- \"Album\"\n",
    "- \"Artist\"\n",
    "- \"Genre\"\n",
    "- \"MediaType\"\n",
    "- \"Playlist\"\n",
    "- \"PlaylistTrack\"\n",
    "- \"Track\"\n",
    "\n",
    "Business:\n",
    "\n",
    "- \"Customer\"\n",
    "- \"Employee\"\n",
    "- \"Invoice\"\n",
    "- \"InvoiceLine\""
   ]
  },
  {
   "cell_type": "code",
   "execution_count": 10,
   "metadata": {},
   "outputs": [
    {
     "data": {
      "text/plain": [
       "[Table(name='Album'),\n",
       " Table(name='Artist'),\n",
       " Table(name='Genre'),\n",
       " Table(name='MediaType'),\n",
       " Table(name='Playlist'),\n",
       " Table(name='PlaylistTrack'),\n",
       " Table(name='Track')]"
      ]
     },
     "execution_count": 10,
     "metadata": {},
     "output_type": "execute_result"
    }
   ],
   "source": [
    "from langchain.chains.openai_tools import create_extraction_chain_pydantic\n",
    "\n",
    "system = f\"\"\"You will recieve a question.\n",
    "\n",
    "If the question is about **Music**, return **ALL** these tables:\n",
    "  - \"Album\"\n",
    "  - \"Artist\"\n",
    "  - \"Genre\"\n",
    "  - \"MediaType\"\n",
    "  - \"Playlist\"\n",
    "  - \"PlaylistTrack\"\n",
    "  - \"Track\"\n",
    "\n",
    "If the question is about **Business**, return **ALL** these tables:\n",
    "  - \"Customer\"\n",
    "  - \"Employee\"\n",
    "  - \"Invoice\"\n",
    "  - \"InvoiceLine\"\n",
    "\n",
    "If you are unsure, return the full list of all available tables for both Music and Business categories.\"\"\"\n",
    "table_chain = create_extraction_chain_pydantic(pydantic_schemas=Table, llm=table_extractor_llm, system_message=system)\n",
    "table_chain.invoke({\"input\": \"What are all the genres of Alanis Morisette songs\"})"
   ]
  },
  {
   "cell_type": "markdown",
   "metadata": {},
   "source": [
    "### **Strategy C:**\n",
    "\n",
    "- **Step 1: Define the category**"
   ]
  },
  {
   "cell_type": "code",
   "execution_count": 19,
   "metadata": {},
   "outputs": [],
   "source": [
    "from langchain.chains.openai_tools import create_extraction_chain_pydantic\n",
    "\n",
    "system = \"\"\"Return the names of the SQL tables that are relevant to the user question. \\\n",
    "The tables are:\n",
    "\n",
    "Music\n",
    "Business\"\"\"\n",
    "table_extractor_llm = init_chat_model(\"llama3-70b-8192\", model_provider=\"groq\", temperature=0)\n",
    "\n",
    "category_chain = create_extraction_chain_pydantic(pydantic_schemas=Table, llm=table_extractor_llm, system_message=system)\n",
    "\n",
    "def get_tables(categories: List[Table]) -> List[str]:\n",
    "    \"\"\"Maps category names to corresponding SQL table names.\n",
    "\n",
    "    Args:\n",
    "        categories (List[Table]): A list of `Table` objects representing different categories.\n",
    "\n",
    "    Returns:\n",
    "        List[str]: A list of SQL table names corresponding to the provided categories.\n",
    "    \"\"\"\n",
    "    tables = []\n",
    "    for category in categories:\n",
    "        if category.name == \"Music\":\n",
    "            tables.extend(\n",
    "                [\n",
    "                    \"Album\",\n",
    "                    \"Artist\",\n",
    "                    \"Genre\",\n",
    "                    \"MediaType\",\n",
    "                    \"Playlist\",\n",
    "                    \"PlaylistTrack\",\n",
    "                    \"Track\",\n",
    "                ]\n",
    "            )\n",
    "        elif category.name == \"Business\":\n",
    "            tables.extend([\"Customer\", \"Employee\", \"Invoice\", \"InvoiceLine\"])\n",
    "    return tables\n",
    "\n",
    "\n",
    "table_chain = category_chain | get_tables "
   ]
  },
  {
   "cell_type": "code",
   "execution_count": 18,
   "metadata": {},
   "outputs": [
    {
     "data": {
      "text/plain": [
       "[Table(name='Music')]"
      ]
     },
     "execution_count": 18,
     "metadata": {},
     "output_type": "execute_result"
    }
   ],
   "source": [
    "category_chain.invoke({\"input\": \"What are all the genres of Alanis Morisette songs\"})"
   ]
  },
  {
   "cell_type": "markdown",
   "metadata": {},
   "source": [
    "- **Step 2: Execute the python function**"
   ]
  },
  {
   "cell_type": "code",
   "execution_count": 20,
   "metadata": {},
   "outputs": [
    {
     "data": {
      "text/plain": [
       "['Album', 'Artist', 'Genre', 'MediaType', 'Playlist', 'PlaylistTrack', 'Track']"
      ]
     },
     "execution_count": 20,
     "metadata": {},
     "output_type": "execute_result"
    }
   ],
   "source": [
    "def get_tables(categories: List[Table]) -> List[str]:\n",
    "    \"\"\"Maps category names to corresponding SQL table names.\n",
    "\n",
    "    Args:\n",
    "        categories (List[Table]): A list of `Table` objects representing different categories.\n",
    "\n",
    "    Returns:\n",
    "        List[str]: A list of SQL table names corresponding to the provided categories.\n",
    "    \"\"\"\n",
    "    tables = []\n",
    "    for category in categories:\n",
    "        if category.name == \"Music\":\n",
    "            tables.extend(\n",
    "                [\n",
    "                    \"Album\",\n",
    "                    \"Artist\",\n",
    "                    \"Genre\",\n",
    "                    \"MediaType\",\n",
    "                    \"Playlist\",\n",
    "                    \"PlaylistTrack\",\n",
    "                    \"Track\",\n",
    "                ]\n",
    "            )\n",
    "        elif category.name == \"Business\":\n",
    "            tables.extend([\"Customer\", \"Employee\", \"Invoice\", \"InvoiceLine\"])\n",
    "    return tables\n",
    "\n",
    "\n",
    "table_chain = category_chain | get_tables \n",
    "table_chain.invoke({\"input\": \"What are all the genres of Alanis Morisette songs\"})"
   ]
  },
  {
   "cell_type": "markdown",
   "metadata": {},
   "source": [
    "### **Final step:**\n",
    "\n",
    "**Attach the desired strategy to your SQL agent**"
   ]
  },
  {
   "cell_type": "code",
   "execution_count": 24,
   "metadata": {},
   "outputs": [],
   "source": [
    "# 定义自定义提示模板，用于生成 SQL 查询\n",
    "custom_prompt = PromptTemplate(\n",
    "    input_variables=[\"dialect\", \"input\", \"table_info\", \"top_k\"],\n",
    "    template=\"\"\"You are a SQL expert using {dialect}.\n",
    "Given the following table schema:\n",
    "{table_info}\n",
    "Generate a syntactically correct SQL query to answer the question: \"{input}\".\n",
    "Limit the results to at most {top_k} rows.\n",
    "Return only the SQL query without any additional commentary or Markdown formatting.\n",
    "\"\"\"\n",
    ")\n",
    "\n",
    "\n",
    "# 构造输入数据字典，其中包含方言、表结构、问题和行数限制\n",
    "# input_data = {\n",
    "#     \"dialect\": db.dialect,                    # 数据库方言，如 \"sqlite\"\n",
    "#     \"table_info\": db.get_table_info(),          # 表结构信息\n",
    "#     \"question\": \"What name of MediaType is?\",\n",
    "#     \"top_k\": 5\n",
    "# }"
   ]
  },
  {
   "cell_type": "code",
   "execution_count": 25,
   "metadata": {},
   "outputs": [],
   "source": [
    "from langchain_core.runnables import RunnablePassthrough\n",
    "from langchain.chains import create_sql_query_chain\n",
    "from operator import itemgetter\n",
    "\n",
    "from langchain.chains.openai_tools import create_extraction_chain_pydantic\n",
    "\n",
    "system = \"\"\"Return the names of the SQL tables that are relevant to the user question. \\\n",
    "The tables are:\n",
    "\n",
    "Music\n",
    "Business\"\"\"\n",
    "table_extractor_llm = init_chat_model(\"llama3-70b-8192\", model_provider=\"groq\", temperature=0)\n",
    "\n",
    "category_chain = create_extraction_chain_pydantic(pydantic_schemas=Table, llm=table_extractor_llm, system_message=system)\n",
    "\n",
    "def get_tables(categories: List[Table]) -> List[str]:\n",
    "    \"\"\"Maps category names to corresponding SQL table names.\n",
    "\n",
    "    Args:\n",
    "        categories (List[Table]): A list of `Table` objects representing different categories.\n",
    "\n",
    "    Returns:\n",
    "        List[str]: A list of SQL table names corresponding to the provided categories.\n",
    "    \"\"\"\n",
    "    tables = []\n",
    "    for category in categories:\n",
    "        if category.name == \"Music\":\n",
    "            tables.extend(\n",
    "                [\n",
    "                    \"Album\",\n",
    "                    \"Artist\",\n",
    "                    \"Genre\",\n",
    "                    \"MediaType\",\n",
    "                    \"Playlist\",\n",
    "                    \"PlaylistTrack\",\n",
    "                    \"Track\",\n",
    "                ]\n",
    "            )\n",
    "        elif category.name == \"Business\":\n",
    "            tables.extend([\"Customer\", \"Employee\", \"Invoice\", \"InvoiceLine\"])\n",
    "    return tables\n",
    "\n",
    "\n",
    "table_chain = category_chain | get_tables \n",
    "\n",
    "# 定义自定义提示模板，用于生成 SQL 查询\n",
    "custom_prompt = PromptTemplate(\n",
    "    input_variables=[\"dialect\", \"input\", \"table_info\", \"top_k\"],\n",
    "    template=\"\"\"You are a SQL expert using {dialect}.\n",
    "Given the following table schema:\n",
    "{table_info}\n",
    "Generate a syntactically correct SQL query to answer the question: \"{input}\".\n",
    "Limit the results to at most {top_k} rows.\n",
    "Return only the SQL query without any additional commentary or Markdown formatting.\n",
    "\"\"\"\n",
    ")\n",
    "\n",
    "query_chain = create_sql_query_chain(table_extractor_llm, db,prompt=custom_prompt)\n",
    "\n",
    "# 利用 bind 绑定固定参数到链中\n",
    "bound_chain = query_chain.bind(\n",
    "    dialect=db.dialect,\n",
    "    table_info=db.get_table_info(),\n",
    "    top_k=55\n",
    ")\n",
    "        \n",
    "# Convert \"question\" key to the \"input\" key expected by current table_chain.\n",
    "table_chain = {\"input\": itemgetter(\"question\")} | table_chain\n",
    "# Set table_names_to_use using table_chain.\n",
    "full_chain = RunnablePassthrough.assign(table_names_to_use=table_chain) | bound_chain\n",
    "\n",
    "query = full_chain.invoke(\n",
    "    {\"question\": \"What are all the genres of Alanis Morisette songs\"}\n",
    ")\n",
    "print(query)"
   ]
  },
  {
   "cell_type": "markdown",
   "metadata": {},
   "source": [
    "**Test the agent**"
   ]
  },
  {
   "cell_type": "code",
   "execution_count": 42,
   "metadata": {},
   "outputs": [
    {
     "name": "stdout",
     "output_type": "stream",
     "text": [
      "SELECT DISTINCT g.Name \n",
      "FROM Track t \n",
      "JOIN Genre g ON t.GenreId = g.GenreId \n",
      "JOIN Album a ON t.AlbumId = a.AlbumId \n",
      "JOIN Artist ar ON a.ArtistId = ar.ArtistId \n",
      "WHERE ar.Name = 'Alanis Morissette';\n"
     ]
    }
   ],
   "source": [
    "from langchain_core.runnables import RunnablePassthrough\n",
    "from langchain.chains import create_sql_query_chain\n",
    "from operator import itemgetter\n",
    "from langchain.chains.openai_tools import create_extraction_chain_pydantic\n",
    "\n",
    "# 系统消息，要求 LLM 返回与问题相关的 SQL 表类别\n",
    "system = \"\"\"Return the names of the SQL tables that are relevant to the user question. \\\n",
    "The tables are:\n",
    "\n",
    "Music\n",
    "Business\"\"\"\n",
    "\n",
    "# 初始化 LLM 模型\n",
    "table_extractor_llm = init_chat_model(\"llama3-70b-8192\", model_provider=\"groq\", temperature=0)\n",
    "\n",
    "# 创建提取链：将用户问题转换为 Table 模型的实例\n",
    "category_chain = create_extraction_chain_pydantic(pydantic_schemas=Table, llm=table_extractor_llm, system_message=system)\n",
    "\n",
    "# 定义一个函数，根据 Table 对象映射到具体的 SQL 表名\n",
    "def get_tables(categories: List[Table]) -> List[str]:\n",
    "    \"\"\"将类别名称映射到对应的 SQL 表名列表.\"\"\"\n",
    "    tables = []\n",
    "    for category in categories:\n",
    "        if category.name == \"Music\":\n",
    "            tables.extend(\n",
    "                [\n",
    "                    \"Album\",\n",
    "                    \"Artist\",\n",
    "                    \"Genre\",\n",
    "                    \"MediaType\",\n",
    "                    \"Playlist\",\n",
    "                    \"PlaylistTrack\",\n",
    "                    \"Track\",\n",
    "                ]\n",
    "            )\n",
    "        elif category.name == \"Business\":\n",
    "            tables.extend([\"Customer\", \"Employee\", \"Invoice\", \"InvoiceLine\"])\n",
    "    return tables\n",
    "\n",
    "# 将类别提取链与映射函数组合，得到一个返回 SQL 表名列表的链\n",
    "table_chain = category_chain | get_tables \n",
    "\n",
    "# 定义自定义 SQL 提示模板，用于生成 SQL 查询\n",
    "custom_prompt = PromptTemplate(\n",
    "    input_variables=[\"dialect\", \"input\", \"table_info\", \"top_k\"],\n",
    "    template=\"\"\"You are a SQL expert using {dialect}.\n",
    "Given the following table schema:\n",
    "{table_info}\n",
    "Generate a syntactically correct SQL query to answer the question: \"{input}\".\n",
    "Don't limit the results to {top_k} rows.\n",
    "Return only the SQL query without any additional commentary or Markdown formatting.\n",
    "\"\"\"\n",
    ")\n",
    "\n",
    "# 创建 SQL 查询链\n",
    "query_chain = create_sql_query_chain(table_extractor_llm, db, prompt=custom_prompt)\n",
    "\n",
    "# 利用 bind 将固定参数绑定到 SQL 查询链中\n",
    "bound_chain = query_chain.bind(\n",
    "    dialect=db.dialect,\n",
    "    table_info=db.get_table_info(),\n",
    "    top_k=55\n",
    ")\n",
    "\n",
    "# 将输入中的 \"question\" 键复制到 \"input\" 键，同时保留原始数据\n",
    "table_chain = (lambda x: {**x, \"input\": x[\"question\"]}) | table_chain\n",
    "\n",
    "# 使用 RunnablePassthrough.assign 将提取到的表名添加到上下文中，然后与 SQL 查询链组合\n",
    "full_chain = RunnablePassthrough.assign(table_names_to_use=table_chain) | bound_chain\n",
    "\n",
    "# 调用整个链，生成 SQL 查询\n",
    "query = full_chain.invoke(\n",
    "    {\"question\": \"What are all the genres of Alanis Morisette songs?non rep!\"}\n",
    ")\n",
    "print(query)\n"
   ]
  },
  {
   "cell_type": "code",
   "execution_count": 43,
   "metadata": {},
   "outputs": [
    {
     "data": {
      "text/plain": [
       "\"[('Rock',)]\""
      ]
     },
     "execution_count": 43,
     "metadata": {},
     "output_type": "execute_result"
    }
   ],
   "source": [
    "db.run(query)"
   ]
  },
  {
   "cell_type": "markdown",
   "metadata": {},
   "source": [
    "**Prepare the tool (Don't run the following cell)**"
   ]
  },
  {
   "cell_type": "code",
   "execution_count": 6,
   "metadata": {},
   "outputs": [
    {
     "name": "stdout",
     "output_type": "stream",
     "text": [
      "可用表: ['Album', 'Artist', 'Customer', 'Employee', 'Genre', 'Invoice', 'InvoiceLine', 'MediaType', 'Playlist', 'PlaylistTrack', 'Track']\n"
     ]
    },
    {
     "data": {
      "text/plain": [
       "\"[('Rock',)]\""
      ]
     },
     "execution_count": 6,
     "metadata": {},
     "output_type": "execute_result"
    }
   ],
   "source": [
    "import os\n",
    "import getpass\n",
    "from dotenv import load_dotenv\n",
    "from pyprojroot import here\n",
    "from typing import List\n",
    "from pprint import pprint\n",
    "from pydantic import BaseModel\n",
    "from langchain_core.tools import tool\n",
    "from langchain_core.runnables import RunnablePassthrough\n",
    "from langchain.chains import create_sql_query_chain\n",
    "from operator import itemgetter\n",
    "from langchain.chains.openai_tools import create_extraction_chain_pydantic\n",
    "from langchain.chat_models import init_chat_model\n",
    "from langchain_core.prompts import PromptTemplate\n",
    "from langchain_community.utilities import SQLDatabase\n",
    "\n",
    "# 定义用于提取表类别的 Pydantic 模型\n",
    "class Table(BaseModel):\n",
    "    name: str\n",
    "\n",
    "# 定义一个映射函数，将类别名称转换为具体的 SQL 表名列表\n",
    "def get_tables(categories: List[Table]) -> List[str]:\n",
    "    \"\"\"根据类别名称映射到对应的 SQL 表名列表.\"\"\"\n",
    "    tables = []\n",
    "    for category in categories:\n",
    "        if category.name == \"Music\":\n",
    "            tables.extend([\n",
    "                \"Album\",\n",
    "                \"Artist\",\n",
    "                \"Genre\",\n",
    "                \"MediaType\",\n",
    "                \"Playlist\",\n",
    "                \"PlaylistTrack\",\n",
    "                \"Track\",\n",
    "            ])\n",
    "        elif category.name == \"Business\":\n",
    "            tables.extend([\"Customer\", \"Employee\", \"Invoice\", \"InvoiceLine\"])\n",
    "    return tables\n",
    "\n",
    "class ChinookSQLAgent:\n",
    "    \"\"\"\n",
    "    一个专门用于 Chinook SQL 数据库查询的 agent，\n",
    "    利用 LLM 解析用户的问题，自动判断与问题相关的表类别，\n",
    "    并生成相应的 SQL 查询执行。\n",
    "    \n",
    "    属性:\n",
    "        sql_agent_llm: 用于解析问题和生成 SQL 查询的 LLM 模型。\n",
    "        db: Chinook 数据库的连接对象。\n",
    "        full_chain: 一个链条，将用户问题转为 SQL 查询后执行。\n",
    "    \n",
    "    构造方法参数:\n",
    "        sqldb_directory (str): Chinook SQLite 数据库文件所在的目录路径。\n",
    "        llm (str): LLM 模型名称（例如 \"gpt-3.5-turbo\"），但内部使用 \"llama3-70b-8192\"。\n",
    "        llm_temperature (float): LLM 的温度参数，用于控制生成结果的随机性。\n",
    "    \"\"\"\n",
    "    def __init__(self, sqldb_directory: str, llm: str, llm_temperature: float) -> None:\n",
    "        # 初始化 LLM 模型（此处使用 \"llama3-70b-8192\"，由 groq 提供）\n",
    "        self.sql_agent_llm = init_chat_model(llm, model_provider=\"groq\", temperature=llm_temperature)\n",
    "        \n",
    "        # 建立到 Chinook SQLite 数据库的连接\n",
    "        self.db = SQLDatabase.from_uri(f\"sqlite:///{sqldb_directory}\")\n",
    "        print(\"可用表:\", self.db.get_usable_table_names())\n",
    "        \n",
    "        # 定义系统提示，指导 LLM 根据用户问题返回相关的表类别\n",
    "        category_chain_system = (\n",
    "            \"Return the names of the SQL tables that are relevant to the user question. \"\n",
    "            \"The tables are:\\n\\nMusic\\nBusiness\"\n",
    "        )\n",
    "        # 创建提取链，从用户问题中提取表类别（使用 Pydantic 模型 Table）\n",
    "        category_chain = create_extraction_chain_pydantic(Table, self.sql_agent_llm, system_message=category_chain_system)\n",
    "        # 将提取到的类别转换为具体的 SQL 表名\n",
    "        table_chain = category_chain | get_tables\n",
    "        \n",
    "        # 定义自定义 SQL 提示模板\n",
    "        custom_prompt = PromptTemplate(\n",
    "            input_variables=[\"dialect\", \"input\", \"table_info\", \"top_k\"],\n",
    "            template=(\n",
    "                \"You are a SQL expert using {dialect}.\\n\"\n",
    "                \"Given the following table schema:\\n\"\n",
    "                \"{table_info}\\n\"\n",
    "                \"Generate a syntactically correct SQL query to answer the question: \\\"{input}\\\".\\n\"\n",
    "                \"Don't limit the results to {top_k} rows.\\n\"\n",
    "                \"Ensure the query uses DISTINCT to avoid duplicate rows.\\n\"\n",
    "                \"Return only the SQL query without any additional commentary or Markdown formatting.\"\n",
    "            )\n",
    "        )\n",
    "        # 利用自定义提示模板创建 SQL 查询链\n",
    "        query_chain = create_sql_query_chain(self.sql_agent_llm, self.db, prompt=custom_prompt)\n",
    "        \n",
    "        # 将输入中的 \"question\" 键转换为 table_chain 所需的 \"input\" 键\n",
    "        table_chain = {\"input\": itemgetter(\"question\")} | table_chain\n",
    "        \n",
    "        # 利用 RunnablePassthrough.assign 将提取到的 table_names 注入上下文，然后通过管道传递给 SQL 查询链\n",
    "        self.full_chain = RunnablePassthrough.assign(table_names_to_use=table_chain) | query_chain\n",
    "\n",
    "    def run(self, query: str) -> str:\n",
    "        \"\"\"\n",
    "        接收用户的查询，将问题转化为 SQL 查询语句，然后在 Chinook 数据库中执行。\n",
    "        \n",
    "        参数:\n",
    "            query (str): 用户的自然语言查询，例如 \"What are all the genres of Alanis Morisette songs? Do not repeat!\"\n",
    "        \n",
    "        返回:\n",
    "            str: 执行 SQL 查询后的结果\n",
    "        \"\"\"\n",
    "        # 调用完整的链条生成 SQL 查询语句\n",
    "        sql_query = self.full_chain.invoke({\"question\": query})\n",
    "        # 执行生成的 SQL 查询并返回结果\n",
    "        return self.db.run(sql_query)\n",
    "\n",
    "# 使用 @tool 装饰器将查询功能暴露为一个工具\n",
    "@tool\n",
    "def query_chinook_sqldb(query: str) -> str:\n",
    "    \"\"\"\n",
    "    查询 Chinook SQL 数据库的工具函数，输入为用户的查询语句。\n",
    "    \n",
    "    该函数会实例化一个 ChinookSQLAgent，然后调用其 run 方法来处理查询。\n",
    "    \"\"\"\n",
    "    # 注意：sqldb_directory 应该是数据库文件所在路径，这里假设它是全局变量或配置项\n",
    "    sqldb_directory = here(\"data/Chinook.db\")\n",
    "    agent = ChinookSQLAgent(\n",
    "        sqldb_directory=sqldb_directory,  # 如 TOOLS_CFG.chinook_sqldb_directory\n",
    "        llm=\"llama3-70b-8192\",              # 如 TOOLS_CFG.chinook_sqlagent_llm\n",
    "        llm_temperature=0\n",
    "    )\n",
    "    return agent.run(query)\n",
    "\n",
    "\n",
    "query_chinook_sqldb('What are all the genres of Alanis Morisette songs')\n"
   ]
  },
  {
   "cell_type": "code",
   "execution_count": null,
   "metadata": {},
   "outputs": [],
   "source": []
  }
 ],
 "metadata": {
  "kernelspec": {
   "display_name": "Python (env-name)",
   "language": "python",
   "name": "env-name"
  },
  "language_info": {
   "codemirror_mode": {
    "name": "ipython",
    "version": 3
   },
   "file_extension": ".py",
   "mimetype": "text/x-python",
   "name": "python",
   "nbconvert_exporter": "python",
   "pygments_lexer": "ipython3",
   "version": "3.10.16"
  }
 },
 "nbformat": 4,
 "nbformat_minor": 4
}
