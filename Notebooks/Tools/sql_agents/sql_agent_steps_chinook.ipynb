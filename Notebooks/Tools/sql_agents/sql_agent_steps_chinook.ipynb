{
    "cells": [
        {
            "cell_type": "code",
            "execution_count": 2,
            "metadata": {},
            "outputs": [
                {
                    "name": "stdout",
                    "output_type": "stream",
                    "text": [
                        "Original table info: \n",
                        "CREATE TABLE \"Album\" (\n",
                        "\t\"AlbumId\" INTEGER NOT NULL, \n",
                        "\t\"Title\" NVARCHAR(160) NOT NULL, \n",
                        "\t\"ArtistId\" INTEGER NOT NULL, \n",
                        "\tPRIMARY KEY (\"AlbumId\"), \n",
                        "\tFOREIGN KEY(\"ArtistId\") REFERENCES \"Artist\" (\"ArtistId\")\n",
                        ")\n",
                        "\n",
                        "/*\n",
                        "3 rows from Album table:\n",
                        "AlbumId\tTitle\tArtistId\n",
                        "1\tFor Those About To Rock We Salute You\t1\n",
                        "2\tBalls to the Wall\t2\n",
                        "3\tRestless and Wild\t2\n",
                        "*/\n"
                    ]
                }
            ],
            "source": [
                "import os\n",
                "from dotenv import load_dotenv\n",
                "from pyprojroot import here\n",
                "from langchain.chains import create_sql_query_chain\n",
                "from langchain_community.agent_toolkits import create_sql_agent\n",
                "from langchain_community.agent_toolkits.sql.toolkit import SQLDatabaseToolkit\n",
                "from langchain_community.utilities import SQLDatabase\n",
                "\n",
                "# 强制覆盖已存在的环境变量load_dotenv(override=True)\n",
                "import sqlalchemy\n",
                "sqldb_directory = here(\"data/Chinook.db\")\n",
                "db = SQLDatabase.from_uri(f\"sqlite:///{sqldb_directory}\")\n",
                "table_info = db.get_table_info([\"Album\"])  # 注意需要传递列表\n",
                "print(f\"Original table info: {table_info}\")"
            ]
        },
        {
            "cell_type": "markdown",
            "metadata": {},
            "source": [
                "**Set the environment variable and load the LLM**"
            ]
        },
        {
            "cell_type": "code",
            "execution_count": null,
            "metadata": {},
            "outputs": [],
            "source": [
                "table_info = db.get_table_info([\"Album\"])  # 注意需要传递列表\n",
                "print(f\"Original table info: {table_info}\")\n",
                "\n",
                "result = db.run(\"SELECT * FROM Album LIMIT 10;\")\n",
                "print(result)\n",
                "print(db.dialect)\n",
                "print(db.get_usable_table_names(),'\\n')"
            ]
        },
        {
            "cell_type": "code",
            "execution_count": 19,
            "metadata": {},
            "outputs": [
                {
                    "name": "stdout",
                    "output_type": "stream",
                    "text": [
                        "\n",
                        " Original table info: \n",
                        "CREATE TABLE \"Album\" (\n",
                        "\t\"AlbumId\" INTEGER NOT NULL, \n",
                        "\t\"Title\" NVARCHAR(160) NOT NULL, \n",
                        "\t\"ArtistId\" INTEGER NOT NULL, \n",
                        "\tPRIMARY KEY (\"AlbumId\"), \n",
                        "\tFOREIGN KEY(\"ArtistId\") REFERENCES \"Artist\" (\"ArtistId\")\n",
                        ")\n",
                        "\n",
                        "/*\n",
                        "3 rows from Album table:\n",
                        "AlbumId\tTitle\tArtistId\n",
                        "1\tFor Those About To Rock We Salute You\t1\n",
                        "2\tBalls to the Wall\t2\n",
                        "3\tRestless and Wild\t2\n",
                        "*/\n",
                        "\n",
                        " write_query result： SELECT Name FROM MediaType LIMIT 5\n",
                        "\n",
                        " execute_response result： [('MPEG audio file',), ('Protected AAC audio file',), ('Protected MPEG-4 video file',), ('Purchased AAC audio file',), ('AAC audio file',)]\n",
                        "\n",
                        " result_chain== [('MPEG audio file',), ('Protected AAC audio file',), ('Protected MPEG-4 video file',), ('Purchased AAC audio file',), ('AAC audio file',)]\n"
                    ]
                }
            ],
            "source": [
                "import getpass\n",
                "import os\n",
                "from langchain.chat_models import init_chat_model\n",
                "from langchain_core.prompts import PromptTemplate\n",
                "from langchain_community.tools.sql_database.tool import QuerySQLDataBaseTool\n",
                "from dotenv import load_dotenv\n",
                "from pyprojroot import here\n",
                "from langchain.chains import create_sql_query_chain\n",
                "from langchain_community.agent_toolkits import create_sql_agent\n",
                "from langchain_community.agent_toolkits.sql.toolkit import SQLDatabaseToolkit\n",
                "from langchain_community.utilities import SQLDatabase\n",
                "\n",
                "# 强制覆盖已存在的环境变量load_dotenv(override=True)\n",
                "\n",
                "\n",
                "# 如果没有设置 GROQ_API_KEY，则提示用户输入\n",
                "if not os.environ.get(\"GROQ_API_KEY\"):\n",
                "    os.environ[\"GROQ_API_KEY\"] = getpass.getpass(\"Enter API key for Groq: \")\n",
                "    \n",
                "sqldb_directory = here(\"data/Chinook.db\")\n",
                "db = SQLDatabase.from_uri(f\"sqlite:///{sqldb_directory}\")\n",
                "table_info = db.get_table_info([\"Album\"])  # 注意需要传递列表\n",
                "print(f\"\\n Original table info: {table_info}\")\n",
                "\n",
                "   \n",
                "#  初始化 Llama 模型，使用 Groq 后端\n",
                "llm = init_chat_model(\"llama-3.3-70b-specdec\", model_provider=\"groq\", temperature=0)\n",
                "# 定义自定义提示模板，用于生成 SQL 查询\n",
                "custom_prompt = PromptTemplate(\n",
                "    input_variables=[\"dialect\", \"input\", \"table_info\", \"top_k\"],\n",
                "    template=\"\"\"You are a SQL expert using {dialect}.\n",
                "Given the following table schema:\n",
                "{table_info}\n",
                "Generate a syntactically correct SQL query to answer the question: \"{input}\".\n",
                "Limit the results to at most {top_k} rows.\n",
                "Return only the SQL query without any additional commentary or Markdown formatting.\n",
                "\"\"\"\n",
                ")\n",
                "\n",
                "\n",
                "write_query  = create_sql_query_chain(llm, db,prompt=custom_prompt)\n",
                "# 构造输入数据字典，其中包含方言、表结构、问题和行数限制\n",
                "input_data = {\n",
                "    \"dialect\": db.dialect,                    # 数据库方言，如 \"sqlite\"\n",
                "    \"table_info\": db.get_table_info(),          # 表结构信息\n",
                "    \"question\": \"What name of MediaType is?\",\n",
                "    \"top_k\": 5\n",
                "}\n",
                "\n",
                "# 调用链生成 SQL 查询，返回结果为一个字典，包含键 \"query\"\n",
                "write_query_response = write_query.invoke(input_data)\n",
                "print('\\n write_query result：',write_query_response)\n",
                "\n",
                "#执行SQL语句\n",
                "execute_query = QuerySQLDataBaseTool(db=db)\n",
                "execute_response = execute_query.invoke(write_query_response)\n",
                "print('\\n execute_response result：',execute_response)\n",
                "\n",
                "#两个动作合起来搞成链\n",
                "chain = write_query | execute_query\n",
                "result_chain = chain.invoke(input_data)\n",
                "print('\\n result_chain==',result_chain)"
            ]
        },
        {
            "cell_type": "markdown",
            "metadata": {},
            "source": [
                "**Load and test the sqlite db**"
            ]
        },
        {
            "cell_type": "code",
            "execution_count": 17,
            "metadata": {},
            "outputs": [
                {
                    "name": "stdout",
                    "output_type": "stream",
                    "text": [
                        "sqlite\n",
                        "['Album', 'Artist', 'Customer', 'Employee', 'Genre', 'Invoice', 'InvoiceLine', 'MediaType', 'Playlist', 'PlaylistTrack', 'Track']\n"
                    ]
                },
                {
                    "data": {
                        "text/plain": [
                            "\"[(1, 2, '2021-01-01 00:00:00', 'Theodor-Heuss-Straße 34', 'Stuttgart', None, 'Germany', '70174', 1.98), (2, 4, '2021-01-02 00:00:00', 'Ullevålsveien 14', 'Oslo', None, 'Norway', '0171', 3.96), (3, 8, '2021-01-03 00:00:00', 'Grétrystraat 63', 'Brussels', None, 'Belgium', '1000', 5.94), (4, 14, '2021-01-06 00:00:00', '8210 111 ST NW', 'Edmonton', 'AB', 'Canada', 'T6G 2C7', 8.91), (5, 23, '2021-01-11 00:00:00', '69 Salem Street', 'Boston', 'MA', 'USA', '2113', 13.86), (6, 37, '2021-01-19 00:00:00', 'Berger Straße 10', 'Frankfurt', None, 'Germany', '60316', 0.99), (7, 38, '2021-02-01 00:00:00', 'Barbarossastraße 19', 'Berlin', None, 'Germany', '10779', 1.98), (8, 40, '2021-02-01 00:00:00', '8, Rue Hanovre', 'Paris', None, 'France', '75002', 1.98), (9, 42, '2021-02-02 00:00:00', '9, Place Louis Barthou', 'Bordeaux', None, 'France', '33000', 3.96), (10, 46, '2021-02-03 00:00:00', '3 Chatham Street', 'Dublin', 'Dublin', 'Ireland', None, 5.94)]\""
                        ]
                    },
                    "execution_count": 17,
                    "metadata": {},
                    "output_type": "execute_result"
                }
            ],
            "source": [
                "sqldb_directory = here(\"data/Chinook.db\")\n",
                "db = SQLDatabase.from_uri(f\"sqlite:///{sqldb_directory}\")\n",
                "print(db.dialect)\n",
                "print(db.get_usable_table_names())\n",
                "db.run(\"SELECT * FROM Invoice LIMIT 10;\")"
            ]
        },
        {
            "cell_type": "code",
            "execution_count": 18,
            "metadata": {},
            "outputs": [
                {
                    "name": "stdout",
                    "output_type": "stream",
                    "text": [
                        "Original table info: \n",
                        "CREATE TABLE \"Employee\" (\n",
                        "\t\"EmployeeId\" INTEGER NOT NULL, \n",
                        "\t\"LastName\" NVARCHAR(20) NOT NULL, \n",
                        "\t\"FirstName\" NVARCHAR(20) NOT NULL, \n",
                        "\t\"Title\" NVARCHAR(30), \n",
                        "\t\"ReportsTo\" INTEGER, \n",
                        "\t\"BirthDate\" DATETIME, \n",
                        "\t\"HireDate\" DATETIME, \n",
                        "\t\"Address\" NVARCHAR(70), \n",
                        "\t\"City\" NVARCHAR(40), \n",
                        "\t\"State\" NVARCHAR(40), \n",
                        "\t\"Country\" NVARCHAR(40), \n",
                        "\t\"PostalCode\" NVARCHAR(10), \n",
                        "\t\"Phone\" NVARCHAR(24), \n",
                        "\t\"Fax\" NVARCHAR(24), \n",
                        "\t\"Email\" NVARCHAR(60), \n",
                        "\tPRIMARY KEY (\"EmployeeId\"), \n",
                        "\tFOREIGN KEY(\"ReportsTo\") REFERENCES \"Employee\" (\"EmployeeId\")\n",
                        ")\n",
                        "\n",
                        "/*\n",
                        "3 rows from Employee table:\n",
                        "EmployeeId\tLastName\tFirstName\tTitle\tReportsTo\tBirthDate\tHireDate\tAddress\tCity\tState\tCountry\tPostalCode\tPhone\tFax\tEmail\n",
                        "1\tAdams\tAndrew\tGeneral Manager\tNone\t1962-02-18 00:00:00\t2002-08-14 00:00:00\t11120 Jasper Ave NW\tEdmonton\tAB\tCanada\tT5K 2N1\t+1 (780) 428-9482\t+1 (780) 428-3457\tandrew@chinookcorp.com\n",
                        "2\tEdwards\tNancy\tSales Manager\t1\t1958-12-08 00:00:00\t2002-05-01 00:00:00\t825 8 Ave SW\tCalgary\tAB\tCanada\tT2P 2T3\t+1 (403) 262-3443\t+1 (403) 262-3322\tnancy@chinookcorp.com\n",
                        "3\tPeacock\tJane\tSales Support Agent\t2\t1973-08-29 00:00:00\t2002-04-01 00:00:00\t1111 6 Ave SW\tCalgary\tAB\tCanada\tT2P 5M5\t+1 (403) 262-3443\t+1 (403) 262-6712\tjane@chinookcorp.com\n",
                        "*/\n"
                    ]
                }
            ],
            "source": [
                "table_info = db.get_table_info([\"Employee\"])  # 注意需要传递列表\n",
                "print(f\"Original table info: {table_info}\")"
            ]
        },
        {
            "cell_type": "code",
            "execution_count": 16,
            "metadata": {},
            "outputs": [
                {
                    "data": {
                        "text/plain": [
                            "\"[('MPEG audio file',), ('Protected AAC audio file',), ('Protected MPEG-4 video file',), ('Purchased AAC audio file',), ('AAC audio file',)]\""
                        ]
                    },
                    "execution_count": 16,
                    "metadata": {},
                    "output_type": "execute_result"
                }
            ],
            "source": [
                "from langchain import debug\n",
                "\n",
                "debug = True  # 启用调试模式\n",
                "\n",
                "import getpass\n",
                "import os\n",
                "from langchain.chat_models import init_chat_model\n",
                "# from langchain_core.prompts import PromptTemplate\n",
                "# from langchain_community.tools.sql_database.tool import QuerySQLDataBaseTool\n",
                "from dotenv import load_dotenv\n",
                "from pyprojroot import here\n",
                "from langchain.chains import create_sql_query_chain\n",
                "from langchain_community.utilities import SQLDatabase\n",
                "from langchain_core.output_parsers import StrOutputParser\n",
                "from langchain_core.prompts import ChatPromptTemplate\n",
                "\n",
                "# 强制覆盖已存在的环境变量load_dotenv(override=True)\n",
                "\n",
                "\n",
                "# 如果没有设置 GROQ_API_KEY，则提示用户输入\n",
                "if not os.environ.get(\"GROQ_API_KEY\"):\n",
                "    os.environ[\"GROQ_API_KEY\"] = getpass.getpass(\"Enter API key for Groq: \")\n",
                "    \n",
                "sqldb_directory = here(\"data/Chinook.db\")\n",
                "db = SQLDatabase.from_uri(f\"sqlite:///{sqldb_directory}\")\n",
                "table_info = db.get_table_info([\"Album\"])  # 注意需要传递列表\n",
                "# print(f\"\\n Original table info: {table_info}\")\n",
                "\n",
                "   \n",
                "#  初始化 Llama 模型，使用 Groq 后端\n",
                "llm = init_chat_model(\"llama3-70b-8192\", model_provider=\"groq\", temperature=0)\n",
                "\n",
                "write_chain = create_sql_query_chain(llm, db)\n",
                "response = write_chain.invoke({\"question\": \"What name of MediaType is?\"})\n",
                "# print(response,'\\n')\n",
                "\n",
                "system = \"\"\"Double check the user's {dialect} query for common mistakes, including:\n",
                "- Only return SQL Query not anything else like ```sql ... ```\n",
                "- Using NOT IN with NULL values\n",
                "- Using UNION when UNION ALL should have been used\n",
                "- Using BETWEEN for exclusive ranges\n",
                "- Data type mismatch in predicates\\\n",
                "- Using the correct number of arguments for functions\n",
                "- Casting to the correct data type\n",
                "- Using the proper columns for joins\n",
                "\n",
                "If there are any of the above mistakes, rewrite the query.\n",
                "If there are no mistakes, just reproduce the original query with no further commentary.\n",
                "\n",
                "Output the final SQL query only.\"\"\"\n",
                "\n",
                "prompt = ChatPromptTemplate.from_messages(\n",
                "    [(\"system\", system), (\"human\", \"{query}\")]\n",
                ").partial(dialect=db.dialect)\n",
                "\n",
                "validation_chain = prompt | llm | StrOutputParser()\n",
                "\n",
                "full_chain = {\"query\": write_chain} | validation_chain\n",
                "query = full_chain.invoke(\n",
                "    {\n",
                "        \"question\": \"What name of MediaType is?\"\n",
                "    }\n",
                ")\n",
                "# print(query)\n",
                "\n",
                "db.run(query)\n",
                "\n",
                "# chain = create_sql_query_chain(llm, db)\n",
                "# response = write_chain.invoke({\"question\": \"How many Genre are there?\"})\n",
                "# response\n"
            ]
        }
    ],
    "metadata": {
        "kernelspec": {
            "display_name": "Python (env-name)",
            "language": "python",
            "name": "env-name"
        },
        "language_info": {
            "codemirror_mode": {
                "name": "ipython",
                "version": 3
            },
            "file_extension": ".py",
            "mimetype": "text/x-python",
            "name": "python",
            "nbconvert_exporter": "python",
            "pygments_lexer": "ipython3",
            "version": "3.10.16"
        }
    },
    "nbformat": 4,
    "nbformat_minor": 4
}