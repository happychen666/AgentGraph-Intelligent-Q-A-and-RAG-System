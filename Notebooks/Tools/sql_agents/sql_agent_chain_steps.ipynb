{
 "cells": [
  {
   "cell_type": "code",
   "execution_count": 2,
   "metadata": {},
   "outputs": [
    {
     "data": {
      "text/plain": [
       "True"
      ]
     },
     "execution_count": 2,
     "metadata": {},
     "output_type": "execute_result"
    }
   ],
   "source": [
    "from pyprojroot import here\n",
    "from langchain_community.utilities import SQLDatabase\n",
    "from langchain.chains import create_sql_query_chain\n",
    "from langchain_community.tools.sql_database.tool import QuerySQLDataBaseTool\n",
    "from langchain_core.prompts import PromptTemplate\n",
    "from langchain_core.output_parsers import StrOutputParser\n",
    "from langchain_core.runnables import RunnablePassthrough\n",
    "from operator import itemgetter\n",
    "import os\n",
    "from dotenv import load_dotenv\n",
    "load_dotenv()"
   ]
  },
  {
   "cell_type": "markdown",
   "metadata": {},
   "source": [
    "**Set the environment variables and load the LLM**"
   ]
  },
  {
   "cell_type": "code",
   "execution_count": 3,
   "metadata": {},
   "outputs": [
    {
     "name": "stdout",
     "output_type": "stream",
     "text": [
      "\n",
      " Original table info: \n",
      "CREATE TABLE \"Album\" (\n",
      "\t\"AlbumId\" INTEGER NOT NULL, \n",
      "\t\"Title\" NVARCHAR(160) NOT NULL, \n",
      "\t\"ArtistId\" INTEGER NOT NULL, \n",
      "\tPRIMARY KEY (\"AlbumId\"), \n",
      "\tFOREIGN KEY(\"ArtistId\") REFERENCES \"Artist\" (\"ArtistId\")\n",
      ")\n",
      "\n",
      "/*\n",
      "3 rows from Album table:\n",
      "AlbumId\tTitle\tArtistId\n",
      "1\tFor Those About To Rock We Salute You\t1\n",
      "2\tBalls to the Wall\t2\n",
      "3\tRestless and Wild\t2\n",
      "*/\n"
     ]
    }
   ],
   "source": [
    "import getpass\n",
    "from langchain.chat_models import init_chat_model\n",
    "from langchain_community.agent_toolkits import create_sql_agent\n",
    "from langchain_community.agent_toolkits.sql.toolkit import SQLDatabaseToolkit\n",
    "\n",
    "# 如果没有设置 GROQ_API_KEY，则提示用户输入\n",
    "if not os.environ.get(\"GROQ_API_KEY\"):\n",
    "    os.environ[\"GROQ_API_KEY\"] = getpass.getpass(\"Enter API key for Groq: \")\n",
    "    \n",
    "sqldb_directory = here(\"data/Chinook.db\")\n",
    "db = SQLDatabase.from_uri(f\"sqlite:///{sqldb_directory}\")\n",
    "table_info = db.get_table_info([\"Album\"])  # 注意需要传递列表\n",
    "print(f\"\\n Original table info: {table_info}\")\n",
    "\n",
    "   \n",
    "#  初始化 Llama 模型，使用 Groq 后端\n",
    "llm = init_chat_model(\"llama3-70b-8192\", model_provider=\"groq\", temperature=0)"
   ]
  },
  {
   "cell_type": "markdown",
   "metadata": {},
   "source": [
    "**Load and test the sqlite db**"
   ]
  },
  {
   "cell_type": "code",
   "execution_count": null,
   "metadata": {},
   "outputs": [
    {
     "name": "stdout",
     "output_type": "stream",
     "text": [
      "sqlite\n",
      "['Album', 'Artist', 'Customer', 'Employee', 'Genre', 'Invoice', 'InvoiceLine', 'MediaType', 'Playlist', 'PlaylistTrack', 'Track']\n"
     ]
    },
    {
     "data": {
      "text/plain": [
       "\"[(1, 2, '2021-01-01 00:00:00', 'Theodor-Heuss-Straße 34', 'Stuttgart', None, 'Germany', '70174', 1.98), (2, 4, '2021-01-02 00:00:00', 'Ullevålsveien 14', 'Oslo', None, 'Norway', '0171', 3.96), (3, 8, '2021-01-03 00:00:00', 'Grétrystraat 63', 'Brussels', None, 'Belgium', '1000', 5.94), (4, 14, '2021-01-06 00:00:00', '8210 111 ST NW', 'Edmonton', 'AB', 'Canada', 'T6G 2C7', 8.91), (5, 23, '2021-01-11 00:00:00', '69 Salem Street', 'Boston', 'MA', 'USA', '2113', 13.86), (6, 37, '2021-01-19 00:00:00', 'Berger Straße 10', 'Frankfurt', None, 'Germany', '60316', 0.99), (7, 38, '2021-02-01 00:00:00', 'Barbarossastraße 19', 'Berlin', None, 'Germany', '10779', 1.98), (8, 40, '2021-02-01 00:00:00', '8, Rue Hanovre', 'Paris', None, 'France', '75002', 1.98), (9, 42, '2021-02-02 00:00:00', '9, Place Louis Barthou', 'Bordeaux', None, 'France', '33000', 3.96), (10, 46, '2021-02-03 00:00:00', '3 Chatham Street', 'Dublin', 'Dublin', 'Ireland', None, 5.94)]\""
      ]
     },
     "execution_count": 3,
     "metadata": {},
     "output_type": "execute_result"
    }
   ],
   "source": [
    "sqldb_directory = here(\"data/Chinook.db\")\n",
    "db = SQLDatabase.from_uri(\n",
    "    f\"sqlite:///{sqldb_directory}\")\n",
    "\n",
    "print(db.dialect)\n",
    "print(db.get_usable_table_names())\n",
    "db.run(\"SELECT * FROM Invoice LIMIT 10;\")\n",
    "\n",
    "# from sqlalchemy import create_engine, inspect\n",
    "# from sqlalchemy.orm import sessionmaker\n",
    "# engine = create_engine(db_path)\n",
    "\n",
    "# # Create a session\n",
    "# Session = sessionmaker(bind=engine)\n",
    "# session = Session()\n",
    "\n",
    "# # Use SQLAlchemy's Inspector to get database information\n",
    "# inspector = inspect(engine)\n",
    "\n",
    "# # Get table names\n",
    "# tables = inspector.get_table_names()\n",
    "# print(\"Tables in the database:\", tables)\n",
    "# print(len(tables))"
   ]
  },
  {
   "cell_type": "markdown",
   "metadata": {},
   "source": [
    "**Create the SQL agent chain and run a test query**"
   ]
  },
  {
   "cell_type": "code",
   "execution_count": null,
   "metadata": {},
   "outputs": [],
   "source": [
    "# 定义自定义提示模板，用于生成 SQL 查询\n",
    "custom_prompt = PromptTemplate(\n",
    "    input_variables=[\"dialect\", \"input\", \"table_info\", \"top_k\"],\n",
    "    template=\"\"\"You are a SQL expert using {dialect}.\n",
    "Given the following table schema:\n",
    "{table_info}\n",
    "Generate a syntactically correct SQL query to answer the question: \"{input}\".\n",
    "Limit the results to at most {top_k} rows.\n",
    "Return only the SQL query without any additional commentary or Markdown formatting.\n",
    "\"\"\"\n",
    ")\n",
    "\n",
    "\n",
    "write_query  = create_sql_query_chain(llm, db,prompt=custom_prompt)\n",
    "\n",
    "execute_query = QuerySQLDataBaseTool(db=db)\n",
    "\n",
    "system_role = \"\"\"Given the following user question, corresponding SQL query, and SQL result, answer the user question.\\n\n",
    "    Question: {question}\\n\n",
    "    SQL Query: {query}\\n\n",
    "    SQL Result: {result}\\n\n",
    "    Answer:\n",
    "    \"\"\"\n",
    "\n",
    "answer_prompt = PromptTemplate.from_template(\n",
    "    system_role)\n",
    "\n",
    "answer = answer_prompt | llm | StrOutputParser()\n",
    "\n",
    "chain = (\n",
    "    RunnablePassthrough.assign(query=write_query).assign(\n",
    "        result=itemgetter(\"query\") | execute_query\n",
    "    )\n",
    "    | answer\n",
    ")\n",
    "\n"
   ]
  },
  {
   "cell_type": "code",
   "execution_count": null,
   "metadata": {},
   "outputs": [
    {
     "data": {
      "text/plain": [
       "\"There are 13 playlists, and their names are:\\n\\n1. '90’s Music\\n2. Audiobooks\\n3. Brazilian Music\\n4. Classical\\n5. Classical 101 - Deep Cuts\\n6. Classical 101 - Next Steps\\n7. Classical 101 - The Basics\\n8. Grunge\\n9. Heavy Metal Classic\\n10. Movies\\n11. Music\\n12. Music Videos\\n13. On-The-Go 1\\n14. TV Shows\""
      ]
     },
     "execution_count": 18,
     "metadata": {},
     "output_type": "execute_result"
    }
   ],
   "source": [
    "msg = \"How many Playlist are there? and what are their names?\"\n",
    "\n",
    "# 构造输入数据字典，其中包含方言、表结构、问题和行数限制\n",
    "input_data = {\n",
    "    \"dialect\": db.dialect,                    # 数据库方言，如 \"sqlite\"\n",
    "    \"table_info\": db.get_table_info(),          # 表结构信息\n",
    "    \"question\": msg,\n",
    "    \"top_k\": 55\n",
    "}\n",
    "\n",
    "response = chain.invoke(input_data)\n",
    "response"
   ]
  },
  {
   "cell_type": "markdown",
   "metadata": {},
   "source": [
    "**Travel SQL-agent Tool Design**"
   ]
  },
  {
   "cell_type": "code",
   "execution_count": 51,
   "metadata": {},
   "outputs": [
    {
     "name": "stdout",
     "output_type": "stream",
     "text": [
      "write_query execution result: SELECT COUNT(*) \n",
      "FROM Playlist;\n",
      "There are 18 playlists.\n"
     ]
    }
   ],
   "source": [
    "from langchain_core.tools import tool\n",
    "from langchain_community.utilities import SQLDatabase\n",
    "from langchain_core.prompts import PromptTemplate\n",
    "from langchain_core.output_parsers import StrOutputParser\n",
    "from langchain_core.runnables import RunnablePassthrough\n",
    "from operator import itemgetter\n",
    "from pyprojroot import here\n",
    "from langchain.chains import create_sql_query_chain\n",
    "from langchain_community.tools.sql_database.tool import QuerySQLDataBaseTool\n",
    "import os\n",
    "from dotenv import load_dotenv\n",
    "load_dotenv()\n",
    "\n",
    "\n",
    "class TravelSQLAgentTool:\n",
    "    \"\"\"\n",
    "    A tool for interacting with a travel-related SQL database using an LLM (Language Model) to generate and execute SQL queries.\n",
    "\n",
    "    This tool enables users to ask travel-related questions, which are transformed into SQL queries by a language model.\n",
    "    The SQL queries are executed on the provided SQLite database, and the results are processed by the language model to\n",
    "    generate a final answer for the user.\n",
    "\n",
    "    Attributes:\n",
    "        sql_agent_llm (LLAMA): An instance of a LLAMA language model used to generate and process SQL queries.\n",
    "        system_role (str): A system prompt template that guides the language model in answering user questions based on SQL query results.\n",
    "        db (SQLDatabase): An instance of the SQL database used to execute queries.\n",
    "        chain (RunnablePassthrough): A chain of operations that creates SQL queries, executes them, and generates a response.\n",
    "\n",
    "    Methods:\n",
    "        __init__: Initializes the TravelSQLAgentTool by setting up the language model, SQL database, and query-answering pipeline.\n",
    "    \"\"\"\n",
    "\n",
    "    def __init__(self, llm: str, sqldb_directory: str, llm_temerature: float) -> None:\n",
    "        \"\"\"\n",
    "        Initializes the TravelSQLAgentTool with the necessary configurations.\n",
    "\n",
    "        Args:\n",
    "            llm (str): The name of the language model to be used for generating and interpreting SQL queries.\n",
    "            sqldb_directory (str): The directory path where the SQLite database is stored.\n",
    "            llm_temerature (float): The temperature setting for the language model, controlling response randomness.\n",
    "        \"\"\"\n",
    "        #  初始化 Llama 模型，使用 Groq 后端\n",
    "        #  \"llama-3.3-70b-specdec\"\n",
    "        self.sql_agent_llm = init_chat_model(llm, model_provider=\"groq\", temperature=llm_temerature)\n",
    "\n",
    "        self.db = SQLDatabase.from_uri(\n",
    "            f\"sqlite:///{sqldb_directory}\")\n",
    "#         print(self.db.get_usable_table_names())\n",
    "\n",
    "        # 定义自定义提示模板，用于生成 SQL 查询\n",
    "        custom_prompt = PromptTemplate(\n",
    "            input_variables=[\"dialect\", \"input\", \"table_info\", \"top_k\"],\n",
    "            template=\"\"\"You are a SQL expert using {dialect}.\n",
    "        Given the following table schema:\n",
    "        {table_info}\n",
    "        Generate a syntactically correct SQL query to answer the question: \"{input}\".\n",
    "        Do not Limit {top_k} the results.\n",
    "        Return only the SQL query without any additional commentary or Markdown formatting.\n",
    "        \"\"\"\n",
    "        )\n",
    "\n",
    "        # write_query\n",
    "        write_query = create_sql_query_chain(self.sql_agent_llm, self.db,prompt=custom_prompt)\n",
    "        execute_query = QuerySQLDataBaseTool(db=self.db)\n",
    "\n",
    "        # answer\n",
    "        self.system_role = \"\"\"Given the following user question, corresponding SQL query, and SQL result, answer the user question.\\n\n",
    "            Question: {question}\\n\n",
    "            SQL Query: {query}\\n\n",
    "            SQL Result: {result}\\n\n",
    "            Answer:\n",
    "            \"\"\"\n",
    "        answer_prompt = PromptTemplate.from_template(\n",
    "            self.system_role)\n",
    "        answer = answer_prompt | self.sql_agent_llm | StrOutputParser()\n",
    "        \n",
    "        # 8. 定义一个调试链 debug_chain，用于打印 write_query 生成的 SQL 查询。\n",
    "        #    这里使用 RunnablePassthrough 执行一个 lambda 函数：\n",
    "        #    lambda data: (print(\"write_query execution result:\", data[\"query\"]), data)[1]\n",
    "        #    解释：先打印 data 字典中 \"query\" 对应的 SQL 语句，然后将原始 data 返回，以便后续链继续处理。\n",
    "        debug_chain = RunnablePassthrough(lambda data: (print(\"write_query execution result:\", data[\"query\"]), data)[1])\n",
    "        \n",
    "        # 9. 构造完整的处理链 chain_ex：\n",
    "        #    - 首先调用 write_query 生成 SQL 查询，并将结果存储到字典的 \"query\" 字段中；\n",
    "        #    - 接着通过 debug_chain 打印出生成的 SQL 查询；\n",
    "        #    - 然后使用 execute_query 执行 SQL 查询，结果存入 \"result\" 字段（此处利用 itemgetter 提取 \"query\" 字段后传递给执行工具）；\n",
    "        #    - 最后将问题、SQL 查询以及查询结果传递给 answer 链，生成最终回答。\n",
    "        # chain\n",
    "        chain_ex = (\n",
    "            RunnablePassthrough.assign(query=write_query)\n",
    "            | debug_chain\n",
    "            | RunnablePassthrough.assign(result=itemgetter(\"query\") | execute_query)\n",
    "            | answer\n",
    "        )\n",
    "        \n",
    "        # 利用 bind 绑定固定参数到链中\n",
    "        bound_chain = chain_ex.bind(\n",
    "            dialect=self.db.dialect,\n",
    "            table_info=self.db.get_table_info(),\n",
    "            top_k=55\n",
    "        )\n",
    "        self.chain = bound_chain\n",
    "        \n",
    "sqldb_directory = here(\"data/Chinook.db\")\n",
    "query = \"and calculate the number of all Playlist\"\n",
    "\n",
    "@tool\n",
    "def query_travel_sqldb(query: str) -> str:\n",
    "\n",
    "    \"\"\"Query the Swiss Airline SQL Database and access all the company's information. Input should be a search query.\"\"\"\n",
    "    agent = TravelSQLAgentTool(\n",
    "        llm=\"llama3-70b-8192\", #TOOLS_CFG.travel_sqlagent_llm\n",
    "        sqldb_directory= sqldb_directory,#TOOLS_CFG.travel_sqldb_directory\n",
    "        llm_temerature=0 #TOOLS_CFG.travel_sqlagent_llm_temperature\n",
    "    )\n",
    "    response = agent.chain.invoke({\"question\": query})\n",
    "    return response\n",
    "\n",
    "print(query_travel_sqldb(query))"
   ]
  },
  {
   "cell_type": "code",
   "execution_count": null,
   "metadata": {},
   "outputs": [],
   "source": [
    "query = \"How many Playlist are there? and what are their names?\"\n",
    "\n",
    "# 构造输入数据字典，其中包含方言、表结构、问题和行数限制\n",
    "input_data = {\n",
    "    \"dialect\": db.dialect,                    # 数据库方言，如 \"sqlite\"\n",
    "    \"table_info\": db.get_table_info(),          # 表结构信息\n",
    "    \"question\": query,\n",
    "    \"top_k\": 55\n",
    "}"
   ]
  },
  {
   "cell_type": "code",
   "execution_count": 27,
   "metadata": {},
   "outputs": [
    {
     "name": "stdout",
     "output_type": "stream",
     "text": [
      "There are 12 playlists, and their names are:\n",
      "\n",
      "1. 90’s Music\n",
      "2. Audiobooks\n",
      "3. Brazilian Music\n",
      "4. Classical\n",
      "5. Classical 101 - Deep Cuts\n",
      "6. Classical 101 - Next Steps\n",
      "7. Classical 101 - The Basics\n",
      "8. Grunge\n",
      "9. Heavy Metal Classic\n",
      "10. Movies\n",
      "11. Music\n",
      "12. Music Videos\n",
      "13. On-The-Go 1\n",
      "14. TV Shows\n"
     ]
    }
   ],
   "source": [
    "# from agent_graph.load_tools_config import LoadToolsConfig\n",
    "\n",
    "# TOOLS_CFG = LoadToolsConfig()\n",
    "\n",
    "sqldb_directory = here(\"data/Chinook.db\")\n",
    "query = \"How many Playlist are there? and what are their names?\"\n",
    "\n",
    "@tool\n",
    "def query_travel_sqldb(query: str) -> str:\n",
    "\n",
    "    \"\"\"Query the Swiss Airline SQL Database and access all the company's information. Input should be a search query.\"\"\"\n",
    "    agent = TravelSQLAgentTool(\n",
    "        llm=\"llama3-70b-8192\", #TOOLS_CFG.travel_sqlagent_llm\n",
    "        sqldb_directory= sqldb_directory,#TOOLS_CFG.travel_sqldb_directory\n",
    "        llm_temerature=0 #TOOLS_CFG.travel_sqlagent_llm_temperature\n",
    "    )\n",
    "    response = agent.chain.invoke({\"question\": query})\n",
    "    return response\n",
    "\n",
    "result = query_travel_sqldb(query)\n",
    "print(result)"
   ]
  },
  {
   "cell_type": "code",
   "execution_count": 29,
   "metadata": {},
   "outputs": [
    {
     "data": {
      "text/plain": [
       "'[(18,)]'"
      ]
     },
     "execution_count": 29,
     "metadata": {},
     "output_type": "execute_result"
    }
   ],
   "source": [
    "db.run('SELECT COUNT(*) FROM Playlist;')"
   ]
  },
  {
   "cell_type": "code",
   "execution_count": 30,
   "metadata": {},
   "outputs": [
    {
     "data": {
      "text/plain": [
       "\"[('Music',), ('Movies',), ('TV Shows',), ('Audiobooks',), ('90’s Music',), ('Audiobooks',), ('Movies',), ('Music',), ('Music Videos',), ('TV Shows',), ('Brazilian Music',), ('Classical',), ('Classical 101 - Deep Cuts',), ('Classical 101 - Next Steps',), ('Classical 101 - The Basics',), ('Grunge',), ('Heavy Metal Classic',), ('On-The-Go 1',)]\""
      ]
     },
     "execution_count": 30,
     "metadata": {},
     "output_type": "execute_result"
    }
   ],
   "source": [
    "db.run('SELECT Name FROM Playlist;')"
   ]
  },
  {
   "cell_type": "code",
   "execution_count": null,
   "metadata": {},
   "outputs": [],
   "source": []
  }
 ],
 "metadata": {
  "kernelspec": {
   "display_name": "Python (env-name)",
   "language": "python",
   "name": "env-name"
  },
  "language_info": {
   "codemirror_mode": {
    "name": "ipython",
    "version": 3
   },
   "file_extension": ".py",
   "mimetype": "text/x-python",
   "name": "python",
   "nbconvert_exporter": "python",
   "pygments_lexer": "ipython3",
   "version": "3.10.16"
  }
 },
 "nbformat": 4,
 "nbformat_minor": 4
}
