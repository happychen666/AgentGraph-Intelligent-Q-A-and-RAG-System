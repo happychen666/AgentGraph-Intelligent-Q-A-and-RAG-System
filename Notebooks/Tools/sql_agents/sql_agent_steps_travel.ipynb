{
 "cells": [
  {
   "cell_type": "code",
   "execution_count": 1,
   "metadata": {},
   "outputs": [
    {
     "name": "stdout",
     "output_type": "stream",
     "text": [
      "Original table info: \n",
      "CREATE TABLE aircrafts_data (\n",
      "\taircraft_code TEXT(3) NOT NULL, \n",
      "\tmodel NUMERIC NOT NULL, \n",
      "\trange INTEGER NOT NULL\n",
      ")\n"
     ]
    }
   ],
   "source": [
    "import os\n",
    "import sqlalchemy\n",
    "from pyprojroot import here\n",
    "from dotenv import load_dotenv\n",
    "from langchain.chains import create_sql_query_chain\n",
    "from langchain_community.agent_toolkits import create_sql_agent\n",
    "from langchain_community.agent_toolkits.sql.toolkit import SQLDatabaseToolkit\n",
    "from langchain_community.utilities import SQLDatabase\n",
    "\n",
    "# 强制覆盖已存在的环境变量
load_dotenv(override=True)\n",
    "sqldb_directory = here(\"data/travel.sqlite\")\n",
    "db = SQLDatabase.from_uri(f\"sqlite:///{sqldb_directory}\",\n",
    "                          sample_rows_in_table_info=0  # 禁用采样行\n",
    "                         )\n",
    "table_info = db.get_table_info([\"aircrafts_data\"])  # 注意需要传递列表\n",
    "print(f\"Original table info: {table_info}\")"
   ]
  },
  {
   "cell_type": "markdown",
   "metadata": {},
   "source": [
    "**Set the environment variable and load the LLM**"
   ]
  },
  {
   "cell_type": "code",
   "execution_count": 2,
   "metadata": {},
   "outputs": [
    {
     "name": "stdout",
     "output_type": "stream",
     "text": [
      "Original table info: \n",
      "CREATE TABLE airports_data (\n",
      "\tairport_code TEXT(3) NOT NULL, \n",
      "\tairport_name NUMERIC NOT NULL, \n",
      "\tcity NUMERIC NOT NULL, \n",
      "\tcoordinates INTEGER NOT NULL, \n",
      "\ttimezone TEXT NOT NULL\n",
      ")\n",
      "sqlite\n",
      "['aircrafts_data', 'airports_data', 'boarding_passes', 'bookings', 'flights', 'seats', 'ticket_flights', 'tickets'] \n",
      "\n"
     ]
    }
   ],
   "source": [
    "table_info = db.get_table_info([\"airports_data\"])  # 注意需要传递列表\n",
    "print(f\"Original table info: {table_info}\")\n",
    "\n",
    "db.run(\"SELECT * FROM aircrafts_data LIMIT 10;\")\n",
    "print(db.dialect)\n",
    "print(db.get_usable_table_names(),'\\n')"
   ]
  },
  {
   "cell_type": "code",
   "execution_count": 3,
   "metadata": {},
   "outputs": [
    {
     "name": "stdout",
     "output_type": "stream",
     "text": [
      "\n",
      "Final Response: To answer this question, we need to find the types of seats available on a flight. Since the question doesn't specify a particular flight, we'll query for the most recent flights and their corresponding seat types.\n",
      "\n",
      "Question: What type of seat is available on the flight?\n",
      "SQLQuery: \n",
      "```sql\n",
      "SELECT DISTINCT \"fare_conditions\" \n",
      "FROM seats \n",
      "JOIN aircrafts_data ON seats.\"aircraft_code\" = aircrafts_data.\"aircraft_code\" \n",
      "ORDER BY aircrafts_data.\"model\" DESC \n",
      "LIMIT 5;\n",
      "```\n",
      "However, the above query may not provide the most accurate information as it doesn't consider the flight details. A more accurate query would be:\n",
      "```sql\n",
      "SELECT DISTINCT \"fare_conditions\" \n",
      "FROM seats \n",
      "JOIN flights ON seats.\"aircraft_code\" = flights.\"aircraft_code\" \n",
      "WHERE flights.\"status\" = 'Scheduled' \n",
      "ORDER BY flights.\"scheduled_departure\" DESC \n",
      "LIMIT 5;\n",
      "```\n",
      "Let's assume the result of the query is:\n"
     ]
    }
   ],
   "source": [
    "import getpass\n",
    "import os\n",
    "from langchain.chat_models import init_chat_model\n",
    "from langchain_core.messages import HumanMessage, ToolMessage,SystemMessage\n",
    "\n",
    "# query = \"What type of seat is available on the flight?\"\n",
    "# 如果没有设置 GROQ_API_KEY，则提示用户输入\n",
    "if not os.environ.get(\"GROQ_API_KEY\"):\n",
    "    os.environ[\"GROQ_API_KEY\"] = getpass.getpass(\"Enter API key for Groq: \")\n",
    "\n",
    "# 初始化 Llama 模型，使用 Groq 后端\n",
    "llm = init_chat_model(\"llama-3.3-70b-specdec\", model_provider=\"groq\", temperature=0)\n",
    "chain = create_sql_query_chain(llm, db)\n",
    "response = chain.invoke({\"question\": \"What type of seat is available on the flight?\"})\n",
    "\n",
    "print(\"\\nFinal Response:\", response)\n"
   ]
  },
  {
   "cell_type": "code",
   "execution_count": null,
   "metadata": {},
   "outputs": [],
   "source": [
    "# 问题列表\n",
    "# What type of seat is available on the flight?\n",
    "# How many passengers have already purchased their tickets "
   ]
  },
  {
   "cell_type": "markdown",
   "metadata": {},
   "source": [
    "**Load and test the sqlite db**"
   ]
  },
  {
   "cell_type": "code",
   "execution_count": 7,
   "metadata": {
    "scrolled": false
   },
   "outputs": [
    {
     "name": "stdout",
     "output_type": "stream",
     "text": [
      "\n",
      " Original table info: \n",
      "CREATE TABLE aircrafts_data (\n",
      "\taircraft_code TEXT(3) NOT NULL, \n",
      "\tmodel NUMERIC NOT NULL, \n",
      "\trange INTEGER NOT NULL\n",
      ")\n",
      "\n",
      " write_query result：\n",
      " SELECT COUNT(DISTINCT passenger_id) FROM tickets LIMIT 5\n",
      "\n",
      " execute_response result：\n",
      " [(366733,)]\n",
      "\n",
      " result_chain:\n",
      " [(366733,)]\n"
     ]
    }
   ],
   "source": [
    "import getpass\n",
    "import os\n",
    "from langchain.chat_models import init_chat_model\n",
    "from langchain_core.prompts import PromptTemplate\n",
    "from langchain_community.tools.sql_database.tool import QuerySQLDataBaseTool\n",
    "from dotenv import load_dotenv\n",
    "from pyprojroot import here\n",
    "from langchain.chains import create_sql_query_chain\n",
    "from langchain_community.agent_toolkits import create_sql_agent\n",
    "from langchain_community.agent_toolkits.sql.toolkit import SQLDatabaseToolkit\n",
    "from langchain_community.utilities import SQLDatabase\n",
    "\n",
    "# 强制覆盖已存在的环境变量
load_dotenv(override=True)\n",
    "\n",
    "\n",
    "# 如果没有设置 GROQ_API_KEY，则提示用户输入\n",
    "if not os.environ.get(\"GROQ_API_KEY\"):\n",
    "    os.environ[\"GROQ_API_KEY\"] = getpass.getpass(\"Enter API key for Groq: \")\n",
    "    \n",
    "sqldb_directory = here(\"data/travel.sqlite\")\n",
    "db = SQLDatabase.from_uri(f\"sqlite:///{sqldb_directory}\",\n",
    "                          sample_rows_in_table_info=0  # 禁用采样行\n",
    "                         )\n",
    "table_info = db.get_table_info([\"aircrafts_data\"])  # 注意需要传递列表\n",
    "print(f\"\\n Original table info: {table_info}\")\n",
    "\n",
    "   \n",
    "#  初始化 Llama 模型，使用 Groq 后端\n",
    "llm = init_chat_model(\"llama-3.3-70b-specdec\", model_provider=\"groq\", temperature=0)\n",
    "# 定义自定义提示模板，用于生成 SQL 查询\n",
    "custom_prompt = PromptTemplate(\n",
    "    input_variables=[\"dialect\", \"input\", \"table_info\", \"top_k\"],\n",
    "    template=\"\"\"You are a SQL expert using {dialect}.\n",
    "Given the following table schema:\n",
    "{table_info}\n",
    "Generate a syntactically correct SQL query to answer the question: \"{input}\".\n",
    "Limit the results to at most {top_k} rows.\n",
    "Return only the SQL query without any additional commentary or Markdown formatting.\n",
    "\"\"\"\n",
    ")\n",
    "\n",
    "\n",
    "write_query  = create_sql_query_chain(llm, db,prompt=custom_prompt)\n",
    "# 构造输入数据字典，其中包含方言、表结构、问题和行数限制\n",
    "input_data = {\n",
    "    \"dialect\": db.dialect,                    # 数据库方言，如 \"sqlite\"\n",
    "    \"table_info\": db.get_table_info(),          # 表结构信息\n",
    "    \"question\": \"How many passengers have already purchased their tickets?\",\n",
    "    \"top_k\": 5\n",
    "}\n",
    "\n",
    "# 调用链生成 SQL 查询，返回结果为一个字典，包含键 \"query\"\n",
    "write_query_response = write_query.invoke(input_data)\n",
    "print('\\n write_query result：\\n',write_query_response)\n",
    "\n",
    "#执行SQL语句\n",
    "execute_query = QuerySQLDataBaseTool(db=db)\n",
    "execute_response = execute_query.invoke(write_query_response)\n",
    "print('\\n execute_response result：\\n',execute_response)\n",
    "\n",
    "#两个动作合起来搞成链\n",
    "chain = write_query | execute_query\n",
    "result_chain = chain.invoke(input_data)\n",
    "print('\\n result_chain:\\n',result_chain)"
   ]
  },
  {
   "cell_type": "code",
   "execution_count": 18,
   "metadata": {},
   "outputs": [
    {
     "name": "stdout",
     "output_type": "stream",
     "text": [
      "Original table info: \n",
      "CREATE TABLE seats (\n",
      "\taircraft_code TEXT(3) NOT NULL, \n",
      "\tseat_no TEXT(4) NOT NULL, \n",
      "\tfare_conditions TEXT(10) NOT NULL\n",
      ")\n"
     ]
    }
   ],
   "source": [
    "table_info = db.get_table_info([\"seats\"])  # 注意需要传递列表\n",
    "print(f\"Original table info: {table_info}\")"
   ]
  },
  {
   "cell_type": "code",
   "execution_count": 14,
   "metadata": {},
   "outputs": [
    {
     "name": "stdout",
     "output_type": "stream",
     "text": [
      "\n",
      " Original table info: \n",
      "CREATE TABLE boarding_passes (\n",
      "\tticket_no TEXT(13) NOT NULL, \n",
      "\tflight_id INTEGER NOT NULL, \n",
      "\tboarding_no INTEGER NOT NULL, \n",
      "\tseat_no TEXT(4) NOT NULL\n",
      ")\n",
      "Here is the answer:\n",
      "\n",
      "Question: How many passengers have already purchased their tickets?\n",
      "SQLQuery: SELECT COUNT(DISTINCT \"passenger_id\") FROM \"tickets\" \n",
      "\n",
      "SELECT COUNT(*) FROM airports_data;\n"
     ]
    },
    {
     "data": {
      "text/plain": [
       "'[(104,)]'"
      ]
     },
     "execution_count": 14,
     "metadata": {},
     "output_type": "execute_result"
    }
   ],
   "source": [
    "from langchain import debug\n",
    "\n",
    "debug = True  # 启用调试模式\n",
    "\n",
    "import getpass\n",
    "import os\n",
    "from langchain.chat_models import init_chat_model\n",
    "# from langchain_core.prompts import PromptTemplate\n",
    "# from langchain_community.tools.sql_database.tool import QuerySQLDataBaseTool\n",
    "from dotenv import load_dotenv\n",
    "from pyprojroot import here\n",
    "from langchain.chains import create_sql_query_chain\n",
    "from langchain_community.utilities import SQLDatabase\n",
    "from langchain_core.output_parsers import StrOutputParser\n",
    "from langchain_core.prompts import ChatPromptTemplate\n",
    "\n",
    "# 强制覆盖已存在的环境变量
load_dotenv(override=True)\n",
    "\n",
    "\n",
    "# 如果没有设置 GROQ_API_KEY，则提示用户输入\n",
    "if not os.environ.get(\"GROQ_API_KEY\"):\n",
    "    os.environ[\"GROQ_API_KEY\"] = getpass.getpass(\"Enter API key for Groq: \")\n",
    "    \n",
    "sqldb_directory = here(\"data/travel.sqlite\")\n",
    "db = SQLDatabase.from_uri(f\"sqlite:///{sqldb_directory}\",\n",
    "                          sample_rows_in_table_info=0  # 禁用采样行\n",
    "                         )\n",
    "table_info = db.get_table_info([\"boarding_passes\"])  # 注意需要传递列表\n",
    "print(f\"\\n Original table info: {table_info}\")\n",
    "\n",
    "   \n",
    "#  初始化 Llama 模型，使用 Groq 后端\n",
    "llm = init_chat_model(\"llama3-70b-8192\", model_provider=\"groq\", temperature=0)\n",
    "\n",
    "write_chain = create_sql_query_chain(llm, db)\n",
    "response = write_chain.invoke({\"question\": \"How many passengers have already purchased their tickets?\"})\n",
    "print(response,'\\n')\n",
    "\n",
    "system = \"\"\"Double check the user's {dialect} query for common mistakes, including:\n",
    "- Only return SQL Query not anything else like ```sql ... ```\n",
    "- Using NOT IN with NULL values\n",
    "- Using UNION when UNION ALL should have been used\n",
    "- Using BETWEEN for exclusive ranges\n",
    "- Data type mismatch in predicates\\\n",
    "- Using the correct number of arguments for functions\n",
    "- Casting to the correct data type\n",
    "- Using the proper columns for joins\n",
    "\n",
    "If there are any of the above mistakes, rewrite the query.\n",
    "If there are no mistakes, just reproduce the original query with no further commentary.\n",
    "\n",
    "Output the final SQL query only.\"\"\"\n",
    "\n",
    "prompt = ChatPromptTemplate.from_messages(\n",
    "    [(\"system\", system), (\"human\", \"{query}\")]\n",
    ").partial(dialect=db.dialect)\n",
    "\n",
    "validation_chain = prompt | llm | StrOutputParser()\n",
    "\n",
    "full_chain = {\"query\": write_chain} | validation_chain\n",
    "query = full_chain.invoke(\n",
    "    {\n",
    "        \"question\": \"How many rows are there in the airports_data table?\"\n",
    "    }\n",
    ")\n",
    "print(query)\n",
    "\n",
    "db.run(query)\n",
    "\n",
    "# chain = create_sql_query_chain(llm, db)\n",
    "# response = write_chain.invoke({\"question\": \"What type of seat is available on the flight?\"})\n",
    "# response\n"
   ]
  },
  {
   "cell_type": "code",
   "execution_count": 16,
   "metadata": {},
   "outputs": [
    {
     "name": "stdout",
     "output_type": "stream",
     "text": [
      "SQL Query Result: [(9,)]\n"
     ]
    }
   ],
   "source": [
    "query = \"SELECT COUNT(*) FROM aircrafts_data;\"\n",
    "result = db.run(query)\n",
    "print(f\"SQL Query Result: {result}\")\n"
   ]
  },
  {
   "cell_type": "code",
   "execution_count": null,
   "metadata": {},
   "outputs": [],
   "source": []
  }
 ],
 "metadata": {
  "kernelspec": {
   "display_name": "Python (env-name)",
   "language": "python",
   "name": "env-name"
  },
  "language_info": {
   "codemirror_mode": {
    "name": "ipython",
    "version": 3
   },
   "file_extension": ".py",
   "mimetype": "text/x-python",
   "name": "python",
   "nbconvert_exporter": "python",
   "pygments_lexer": "ipython3",
   "version": "3.10.16"
  }
 },
 "nbformat": 4,
 "nbformat_minor": 4
}
